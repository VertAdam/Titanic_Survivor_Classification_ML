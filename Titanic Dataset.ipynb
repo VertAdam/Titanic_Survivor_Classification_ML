{
 "cells": [
  {
   "cell_type": "markdown",
   "metadata": {
    "heading_collapsed": true
   },
   "source": [
    "# Setup"
   ]
  },
  {
   "cell_type": "code",
   "execution_count": 1,
   "metadata": {
    "hidden": true
   },
   "outputs": [],
   "source": [
    "%matplotlib inline"
   ]
  },
  {
   "cell_type": "markdown",
   "metadata": {
    "heading_collapsed": true
   },
   "source": [
    "# Load in Data"
   ]
  },
  {
   "cell_type": "code",
   "execution_count": 2,
   "metadata": {
    "hidden": true
   },
   "outputs": [
    {
     "data": {
      "text/html": [
       "<div>\n",
       "<style scoped>\n",
       "    .dataframe tbody tr th:only-of-type {\n",
       "        vertical-align: middle;\n",
       "    }\n",
       "\n",
       "    .dataframe tbody tr th {\n",
       "        vertical-align: top;\n",
       "    }\n",
       "\n",
       "    .dataframe thead th {\n",
       "        text-align: right;\n",
       "    }\n",
       "</style>\n",
       "<table border=\"1\" class=\"dataframe\">\n",
       "  <thead>\n",
       "    <tr style=\"text-align: right;\">\n",
       "      <th></th>\n",
       "      <th>PassengerId</th>\n",
       "      <th>Survived</th>\n",
       "      <th>Pclass</th>\n",
       "      <th>Name</th>\n",
       "      <th>Sex</th>\n",
       "      <th>Age</th>\n",
       "      <th>SibSp</th>\n",
       "      <th>Parch</th>\n",
       "      <th>Ticket</th>\n",
       "      <th>Fare</th>\n",
       "      <th>Cabin</th>\n",
       "      <th>Embarked</th>\n",
       "    </tr>\n",
       "  </thead>\n",
       "  <tbody>\n",
       "    <tr>\n",
       "      <th>0</th>\n",
       "      <td>1</td>\n",
       "      <td>0</td>\n",
       "      <td>3</td>\n",
       "      <td>Braund, Mr. Owen Harris</td>\n",
       "      <td>male</td>\n",
       "      <td>22.0</td>\n",
       "      <td>1</td>\n",
       "      <td>0</td>\n",
       "      <td>A/5 21171</td>\n",
       "      <td>7.2500</td>\n",
       "      <td>NaN</td>\n",
       "      <td>S</td>\n",
       "    </tr>\n",
       "    <tr>\n",
       "      <th>1</th>\n",
       "      <td>2</td>\n",
       "      <td>1</td>\n",
       "      <td>1</td>\n",
       "      <td>Cumings, Mrs. John Bradley (Florence Briggs Th...</td>\n",
       "      <td>female</td>\n",
       "      <td>38.0</td>\n",
       "      <td>1</td>\n",
       "      <td>0</td>\n",
       "      <td>PC 17599</td>\n",
       "      <td>71.2833</td>\n",
       "      <td>C85</td>\n",
       "      <td>C</td>\n",
       "    </tr>\n",
       "    <tr>\n",
       "      <th>2</th>\n",
       "      <td>3</td>\n",
       "      <td>1</td>\n",
       "      <td>3</td>\n",
       "      <td>Heikkinen, Miss. Laina</td>\n",
       "      <td>female</td>\n",
       "      <td>26.0</td>\n",
       "      <td>0</td>\n",
       "      <td>0</td>\n",
       "      <td>STON/O2. 3101282</td>\n",
       "      <td>7.9250</td>\n",
       "      <td>NaN</td>\n",
       "      <td>S</td>\n",
       "    </tr>\n",
       "    <tr>\n",
       "      <th>3</th>\n",
       "      <td>4</td>\n",
       "      <td>1</td>\n",
       "      <td>1</td>\n",
       "      <td>Futrelle, Mrs. Jacques Heath (Lily May Peel)</td>\n",
       "      <td>female</td>\n",
       "      <td>35.0</td>\n",
       "      <td>1</td>\n",
       "      <td>0</td>\n",
       "      <td>113803</td>\n",
       "      <td>53.1000</td>\n",
       "      <td>C123</td>\n",
       "      <td>S</td>\n",
       "    </tr>\n",
       "    <tr>\n",
       "      <th>4</th>\n",
       "      <td>5</td>\n",
       "      <td>0</td>\n",
       "      <td>3</td>\n",
       "      <td>Allen, Mr. William Henry</td>\n",
       "      <td>male</td>\n",
       "      <td>35.0</td>\n",
       "      <td>0</td>\n",
       "      <td>0</td>\n",
       "      <td>373450</td>\n",
       "      <td>8.0500</td>\n",
       "      <td>NaN</td>\n",
       "      <td>S</td>\n",
       "    </tr>\n",
       "  </tbody>\n",
       "</table>\n",
       "</div>"
      ],
      "text/plain": [
       "   PassengerId  Survived  Pclass  \\\n",
       "0            1         0       3   \n",
       "1            2         1       1   \n",
       "2            3         1       3   \n",
       "3            4         1       1   \n",
       "4            5         0       3   \n",
       "\n",
       "                                                Name     Sex   Age  SibSp  \\\n",
       "0                            Braund, Mr. Owen Harris    male  22.0      1   \n",
       "1  Cumings, Mrs. John Bradley (Florence Briggs Th...  female  38.0      1   \n",
       "2                             Heikkinen, Miss. Laina  female  26.0      0   \n",
       "3       Futrelle, Mrs. Jacques Heath (Lily May Peel)  female  35.0      1   \n",
       "4                           Allen, Mr. William Henry    male  35.0      0   \n",
       "\n",
       "   Parch            Ticket     Fare Cabin Embarked  \n",
       "0      0         A/5 21171   7.2500   NaN        S  \n",
       "1      0          PC 17599  71.2833   C85        C  \n",
       "2      0  STON/O2. 3101282   7.9250   NaN        S  \n",
       "3      0            113803  53.1000  C123        S  \n",
       "4      0            373450   8.0500   NaN        S  "
      ]
     },
     "metadata": {},
     "output_type": "display_data"
    }
   ],
   "source": [
    "from sklearn.datasets import fetch_openml\n",
    "import pandas as pd\n",
    "\n",
    "train = pd.read_csv(\"train.csv\")\n",
    "X_test = pd.read_csv('test.csv')\n",
    "display(train.head())"
   ]
  },
  {
   "cell_type": "markdown",
   "metadata": {},
   "source": [
    "# Data Exploration"
   ]
  },
  {
   "cell_type": "code",
   "execution_count": 3,
   "metadata": {},
   "outputs": [
    {
     "data": {
      "text/html": [
       "<div>\n",
       "<style scoped>\n",
       "    .dataframe tbody tr th:only-of-type {\n",
       "        vertical-align: middle;\n",
       "    }\n",
       "\n",
       "    .dataframe tbody tr th {\n",
       "        vertical-align: top;\n",
       "    }\n",
       "\n",
       "    .dataframe thead th {\n",
       "        text-align: right;\n",
       "    }\n",
       "</style>\n",
       "<table border=\"1\" class=\"dataframe\">\n",
       "  <thead>\n",
       "    <tr style=\"text-align: right;\">\n",
       "      <th></th>\n",
       "      <th>PassengerId</th>\n",
       "      <th>Survived</th>\n",
       "      <th>Pclass</th>\n",
       "      <th>Age</th>\n",
       "      <th>SibSp</th>\n",
       "      <th>Parch</th>\n",
       "      <th>Fare</th>\n",
       "    </tr>\n",
       "  </thead>\n",
       "  <tbody>\n",
       "    <tr>\n",
       "      <th>count</th>\n",
       "      <td>891.000000</td>\n",
       "      <td>891.000000</td>\n",
       "      <td>891.000000</td>\n",
       "      <td>714.000000</td>\n",
       "      <td>891.000000</td>\n",
       "      <td>891.000000</td>\n",
       "      <td>891.000000</td>\n",
       "    </tr>\n",
       "    <tr>\n",
       "      <th>mean</th>\n",
       "      <td>446.000000</td>\n",
       "      <td>0.383838</td>\n",
       "      <td>2.308642</td>\n",
       "      <td>29.699118</td>\n",
       "      <td>0.523008</td>\n",
       "      <td>0.381594</td>\n",
       "      <td>32.204208</td>\n",
       "    </tr>\n",
       "    <tr>\n",
       "      <th>std</th>\n",
       "      <td>257.353842</td>\n",
       "      <td>0.486592</td>\n",
       "      <td>0.836071</td>\n",
       "      <td>14.526497</td>\n",
       "      <td>1.102743</td>\n",
       "      <td>0.806057</td>\n",
       "      <td>49.693429</td>\n",
       "    </tr>\n",
       "    <tr>\n",
       "      <th>min</th>\n",
       "      <td>1.000000</td>\n",
       "      <td>0.000000</td>\n",
       "      <td>1.000000</td>\n",
       "      <td>0.420000</td>\n",
       "      <td>0.000000</td>\n",
       "      <td>0.000000</td>\n",
       "      <td>0.000000</td>\n",
       "    </tr>\n",
       "    <tr>\n",
       "      <th>25%</th>\n",
       "      <td>223.500000</td>\n",
       "      <td>0.000000</td>\n",
       "      <td>2.000000</td>\n",
       "      <td>20.125000</td>\n",
       "      <td>0.000000</td>\n",
       "      <td>0.000000</td>\n",
       "      <td>7.910400</td>\n",
       "    </tr>\n",
       "    <tr>\n",
       "      <th>50%</th>\n",
       "      <td>446.000000</td>\n",
       "      <td>0.000000</td>\n",
       "      <td>3.000000</td>\n",
       "      <td>28.000000</td>\n",
       "      <td>0.000000</td>\n",
       "      <td>0.000000</td>\n",
       "      <td>14.454200</td>\n",
       "    </tr>\n",
       "    <tr>\n",
       "      <th>75%</th>\n",
       "      <td>668.500000</td>\n",
       "      <td>1.000000</td>\n",
       "      <td>3.000000</td>\n",
       "      <td>38.000000</td>\n",
       "      <td>1.000000</td>\n",
       "      <td>0.000000</td>\n",
       "      <td>31.000000</td>\n",
       "    </tr>\n",
       "    <tr>\n",
       "      <th>max</th>\n",
       "      <td>891.000000</td>\n",
       "      <td>1.000000</td>\n",
       "      <td>3.000000</td>\n",
       "      <td>80.000000</td>\n",
       "      <td>8.000000</td>\n",
       "      <td>6.000000</td>\n",
       "      <td>512.329200</td>\n",
       "    </tr>\n",
       "  </tbody>\n",
       "</table>\n",
       "</div>"
      ],
      "text/plain": [
       "       PassengerId    Survived      Pclass         Age       SibSp  \\\n",
       "count   891.000000  891.000000  891.000000  714.000000  891.000000   \n",
       "mean    446.000000    0.383838    2.308642   29.699118    0.523008   \n",
       "std     257.353842    0.486592    0.836071   14.526497    1.102743   \n",
       "min       1.000000    0.000000    1.000000    0.420000    0.000000   \n",
       "25%     223.500000    0.000000    2.000000   20.125000    0.000000   \n",
       "50%     446.000000    0.000000    3.000000   28.000000    0.000000   \n",
       "75%     668.500000    1.000000    3.000000   38.000000    1.000000   \n",
       "max     891.000000    1.000000    3.000000   80.000000    8.000000   \n",
       "\n",
       "            Parch        Fare  \n",
       "count  891.000000  891.000000  \n",
       "mean     0.381594   32.204208  \n",
       "std      0.806057   49.693429  \n",
       "min      0.000000    0.000000  \n",
       "25%      0.000000    7.910400  \n",
       "50%      0.000000   14.454200  \n",
       "75%      0.000000   31.000000  \n",
       "max      6.000000  512.329200  "
      ]
     },
     "execution_count": 3,
     "metadata": {},
     "output_type": "execute_result"
    }
   ],
   "source": [
    "import numpy as np\n",
    "\n",
    "train_copy = train.copy()\n",
    "\n",
    "train_copy.describe()\n"
   ]
  },
  {
   "cell_type": "markdown",
   "metadata": {},
   "source": [
    "We are missing 177 age attributes"
   ]
  },
  {
   "cell_type": "code",
   "execution_count": 4,
   "metadata": {},
   "outputs": [
    {
     "name": "stdout",
     "output_type": "stream",
     "text": [
      "<class 'pandas.core.frame.DataFrame'>\n",
      "RangeIndex: 891 entries, 0 to 890\n",
      "Data columns (total 12 columns):\n",
      " #   Column       Non-Null Count  Dtype  \n",
      "---  ------       --------------  -----  \n",
      " 0   PassengerId  891 non-null    int64  \n",
      " 1   Survived     891 non-null    int64  \n",
      " 2   Pclass       891 non-null    int64  \n",
      " 3   Name         891 non-null    object \n",
      " 4   Sex          891 non-null    object \n",
      " 5   Age          714 non-null    float64\n",
      " 6   SibSp        891 non-null    int64  \n",
      " 7   Parch        891 non-null    int64  \n",
      " 8   Ticket       891 non-null    object \n",
      " 9   Fare         891 non-null    float64\n",
      " 10  Cabin        204 non-null    object \n",
      " 11  Embarked     889 non-null    object \n",
      "dtypes: float64(2), int64(5), object(5)\n",
      "memory usage: 83.7+ KB\n"
     ]
    }
   ],
   "source": [
    "train_copy.info()"
   ]
  },
  {
   "cell_type": "markdown",
   "metadata": {},
   "source": [
    "We definetly can remove the Name category, and we are missing almost all the Cabin attributes"
   ]
  },
  {
   "cell_type": "code",
   "execution_count": 5,
   "metadata": {},
   "outputs": [
    {
     "data": {
      "text/plain": [
       "male      577\n",
       "female    314\n",
       "Name: Sex, dtype: int64"
      ]
     },
     "execution_count": 5,
     "metadata": {},
     "output_type": "execute_result"
    }
   ],
   "source": [
    "train_copy[\"Sex\"].value_counts()"
   ]
  },
  {
   "cell_type": "markdown",
   "metadata": {},
   "source": [
    "Need to change Male/Female to Binary"
   ]
  },
  {
   "cell_type": "code",
   "execution_count": 6,
   "metadata": {},
   "outputs": [
    {
     "data": {
      "text/plain": [
       "1    577\n",
       "0    314\n",
       "Name: Sex, dtype: int64"
      ]
     },
     "execution_count": 6,
     "metadata": {},
     "output_type": "execute_result"
    }
   ],
   "source": [
    "from sklearn.preprocessing import LabelBinarizer\n",
    "binarizer = LabelBinarizer()\n",
    "bin_sex = binarizer.fit_transform(train_copy[\"Sex\"])\n",
    "train_copy[\"Sex\"] = bin_sex\n",
    "train_copy[\"Sex\"].value_counts()"
   ]
  },
  {
   "cell_type": "code",
   "execution_count": 7,
   "metadata": {},
   "outputs": [
    {
     "name": "stdout",
     "output_type": "stream",
     "text": [
      "S    644\n",
      "C    168\n",
      "Q     77\n",
      "Name: Embarked, dtype: int64\n",
      "     PassengerId  Survived  Pclass                                       Name  \\\n",
      "61            62         1       1                        Icard, Miss. Amelie   \n",
      "829          830         1       1  Stone, Mrs. George Nelson (Martha Evelyn)   \n",
      "\n",
      "     Sex   Age  SibSp  Parch  Ticket  Fare Cabin Embarked  \n",
      "61     0  38.0      0      0  113572  80.0   B28      NaN  \n",
      "829    0  62.0      0      0  113572  80.0   B28      NaN  \n"
     ]
    }
   ],
   "source": [
    "print(train_copy[\"Embarked\"].value_counts())\n",
    "print(train_copy[train_copy[\"Embarked\"].isnull()])\n"
   ]
  },
  {
   "cell_type": "code",
   "execution_count": 8,
   "metadata": {},
   "outputs": [
    {
     "data": {
      "text/plain": [
       "C23 C25 C27    4\n",
       "B96 B98        4\n",
       "G6             4\n",
       "F33            3\n",
       "E101           3\n",
       "              ..\n",
       "D50            1\n",
       "D30            1\n",
       "C148           1\n",
       "A31            1\n",
       "B101           1\n",
       "Name: Cabin, Length: 147, dtype: int64"
      ]
     },
     "execution_count": 8,
     "metadata": {},
     "output_type": "execute_result"
    }
   ],
   "source": [
    "train_copy[\"Cabin\"].value_counts()"
   ]
  },
  {
   "cell_type": "code",
   "execution_count": 9,
   "metadata": {},
   "outputs": [
    {
     "data": {
      "text/plain": [
       "Sex           -0.543351\n",
       "Pclass        -0.338481\n",
       "Age           -0.077221\n",
       "SibSp         -0.035322\n",
       "PassengerId   -0.005007\n",
       "Parch          0.081629\n",
       "Fare           0.257307\n",
       "Survived       1.000000\n",
       "Name: Survived, dtype: float64"
      ]
     },
     "execution_count": 9,
     "metadata": {},
     "output_type": "execute_result"
    }
   ],
   "source": [
    "train_copy.corr()[\"Survived\"].sort_values()"
   ]
  },
  {
   "cell_type": "markdown",
   "metadata": {},
   "source": [
    " Looks like Pclass, Age, Fare and Parch are most signifigant with Passenger ID being nearly useless"
   ]
  },
  {
   "cell_type": "code",
   "execution_count": 10,
   "metadata": {
    "scrolled": false
   },
   "outputs": [
    {
     "data": {
      "text/plain": [
       "array([<AxesSubplot:xlabel='PassengerId', ylabel='Pclass'>,\n",
       "       <AxesSubplot:xlabel='Survived', ylabel='Pclass'>,\n",
       "       <AxesSubplot:xlabel='Pclass', ylabel='Pclass'>,\n",
       "       <AxesSubplot:xlabel='Sex', ylabel='Pclass'>,\n",
       "       <AxesSubplot:xlabel='Age', ylabel='Pclass'>,\n",
       "       <AxesSubplot:xlabel='SibSp', ylabel='Pclass'>,\n",
       "       <AxesSubplot:xlabel='Parch', ylabel='Pclass'>,\n",
       "       <AxesSubplot:xlabel='Fare', ylabel='Pclass'>], dtype=object)"
      ]
     },
     "execution_count": 10,
     "metadata": {},
     "output_type": "execute_result"
    },
    {
     "data": {
      "image/png": "[encoded data removed]",
      "text/plain": [
       "<Figure size 1080x720 with 64 Axes>"
      ]
     },
     "metadata": {
      "needs_background": "light"
     },
     "output_type": "display_data"
    }
   ],
   "source": [
    "from pandas.plotting import scatter_matrix\n",
    "import matplotlib.pyplot as plt\n",
    "train_copy = train_copy#.drop([\"PassengerId\", \"Cabin\", \"Name\", \"Ticket\"], axis = 1)\n",
    "scatter_matrix(train_copy, figsize = (15,10))[2]"
   ]
  },
  {
   "cell_type": "markdown",
   "metadata": {},
   "source": [
    "Looks like almost all data except for age is categorical\n"
   ]
  },
  {
   "cell_type": "code",
   "execution_count": 11,
   "metadata": {},
   "outputs": [
    {
     "name": "stdout",
     "output_type": "stream",
     "text": [
      "<class 'pandas.core.frame.DataFrame'>\n",
      "RangeIndex: 891 entries, 0 to 890\n",
      "Data columns (total 12 columns):\n",
      " #   Column       Non-Null Count  Dtype  \n",
      "---  ------       --------------  -----  \n",
      " 0   PassengerId  891 non-null    int64  \n",
      " 1   Survived     891 non-null    int64  \n",
      " 2   Pclass       891 non-null    int64  \n",
      " 3   Name         891 non-null    object \n",
      " 4   Sex          891 non-null    int32  \n",
      " 5   Age          714 non-null    float64\n",
      " 6   SibSp        891 non-null    int64  \n",
      " 7   Parch        891 non-null    int64  \n",
      " 8   Ticket       891 non-null    object \n",
      " 9   Fare         891 non-null    float64\n",
      " 10  Cabin        204 non-null    object \n",
      " 11  Embarked     889 non-null    object \n",
      "dtypes: float64(2), int32(1), int64(5), object(4)\n",
      "memory usage: 80.2+ KB\n",
      "None\n"
     ]
    },
    {
     "data": {
      "text/plain": [
       "array([[<AxesSubplot:title={'center':'PassengerId'}>,\n",
       "        <AxesSubplot:title={'center':'Survived'}>,\n",
       "        <AxesSubplot:title={'center':'Pclass'}>],\n",
       "       [<AxesSubplot:title={'center':'Sex'}>,\n",
       "        <AxesSubplot:title={'center':'Age'}>,\n",
       "        <AxesSubplot:title={'center':'SibSp'}>],\n",
       "       [<AxesSubplot:title={'center':'Parch'}>,\n",
       "        <AxesSubplot:title={'center':'Fare'}>, <AxesSubplot:>]],\n",
       "      dtype=object)"
      ]
     },
     "execution_count": 11,
     "metadata": {},
     "output_type": "execute_result"
    },
    {
     "data": {
      "image/png": "[encoded data removed]",
      "text/plain": [
       "<Figure size 1080x720 with 9 Axes>"
      ]
     },
     "metadata": {
      "needs_background": "light"
     },
     "output_type": "display_data"
    }
   ],
   "source": [
    "print(train_copy.info())\n",
    "train_copy.hist(figsize=(15,10))"
   ]
  },
  {
   "cell_type": "code",
   "execution_count": 12,
   "metadata": {},
   "outputs": [
    {
     "data": {
      "text/html": [
       "<div>\n",
       "<style scoped>\n",
       "    .dataframe tbody tr th:only-of-type {\n",
       "        vertical-align: middle;\n",
       "    }\n",
       "\n",
       "    .dataframe tbody tr th {\n",
       "        vertical-align: top;\n",
       "    }\n",
       "\n",
       "    .dataframe thead th {\n",
       "        text-align: right;\n",
       "    }\n",
       "</style>\n",
       "<table border=\"1\" class=\"dataframe\">\n",
       "  <thead>\n",
       "    <tr style=\"text-align: right;\">\n",
       "      <th></th>\n",
       "      <th>PassengerId</th>\n",
       "      <th>Survived</th>\n",
       "      <th>Pclass</th>\n",
       "      <th>Name</th>\n",
       "      <th>Sex</th>\n",
       "      <th>Age</th>\n",
       "      <th>SibSp</th>\n",
       "      <th>Parch</th>\n",
       "      <th>Ticket</th>\n",
       "      <th>Fare</th>\n",
       "      <th>Cabin</th>\n",
       "      <th>Embarked</th>\n",
       "    </tr>\n",
       "  </thead>\n",
       "  <tbody>\n",
       "    <tr>\n",
       "      <th>61</th>\n",
       "      <td>62</td>\n",
       "      <td>1</td>\n",
       "      <td>1</td>\n",
       "      <td>Icard, Miss. Amelie</td>\n",
       "      <td>0</td>\n",
       "      <td>38.0</td>\n",
       "      <td>0</td>\n",
       "      <td>0</td>\n",
       "      <td>113572</td>\n",
       "      <td>80.0</td>\n",
       "      <td>B28</td>\n",
       "      <td>NaN</td>\n",
       "    </tr>\n",
       "    <tr>\n",
       "      <th>829</th>\n",
       "      <td>830</td>\n",
       "      <td>1</td>\n",
       "      <td>1</td>\n",
       "      <td>Stone, Mrs. George Nelson (Martha Evelyn)</td>\n",
       "      <td>0</td>\n",
       "      <td>62.0</td>\n",
       "      <td>0</td>\n",
       "      <td>0</td>\n",
       "      <td>113572</td>\n",
       "      <td>80.0</td>\n",
       "      <td>B28</td>\n",
       "      <td>NaN</td>\n",
       "    </tr>\n",
       "  </tbody>\n",
       "</table>\n",
       "</div>"
      ],
      "text/plain": [
       "     PassengerId  Survived  Pclass                                       Name  \\\n",
       "61            62         1       1                        Icard, Miss. Amelie   \n",
       "829          830         1       1  Stone, Mrs. George Nelson (Martha Evelyn)   \n",
       "\n",
       "     Sex   Age  SibSp  Parch  Ticket  Fare Cabin Embarked  \n",
       "61     0  38.0      0      0  113572  80.0   B28      NaN  \n",
       "829    0  62.0      0      0  113572  80.0   B28      NaN  "
      ]
     },
     "execution_count": 12,
     "metadata": {},
     "output_type": "execute_result"
    }
   ],
   "source": [
    "df_na = train_copy[train_copy[\"Embarked\"].isnull()]\n",
    "df_na"
   ]
  },
  {
   "cell_type": "markdown",
   "metadata": {},
   "source": [
    "Lets look at the Ages"
   ]
  },
  {
   "cell_type": "code",
   "execution_count": 13,
   "metadata": {},
   "outputs": [
    {
     "data": {
      "text/plain": [
       "<AxesSubplot:xlabel='Age'>"
      ]
     },
     "execution_count": 13,
     "metadata": {},
     "output_type": "execute_result"
    },
    {
     "data": {
      "image/png": "[encoded data removed]",
      "text/plain": [
       "<Figure size 432x288 with 1 Axes>"
      ]
     },
     "metadata": {
      "needs_background": "light"
     },
     "output_type": "display_data"
    },
    {
     "data": {
      "image/png": "[encoded data removed]",
      "text/plain": [
       "<Figure size 432x288 with 1 Axes>"
      ]
     },
     "metadata": {
      "needs_background": "light"
     },
     "output_type": "display_data"
    }
   ],
   "source": [
    "bins = pd.cut(train_copy['Age'], [0, 10, 20, 40,60,80])\n",
    "\n",
    "train_copy['Age'].hist(bins = np.arange(85))\n",
    "train_copy[['Survived']].groupby(bins).mean().plot.bar()\n",
    "\n",
    "# Remove the one outlier who is 80"
   ]
  },
  {
   "cell_type": "markdown",
   "metadata": {},
   "source": [
    "Gonna look at names now"
   ]
  },
  {
   "cell_type": "code",
   "execution_count": 14,
   "metadata": {},
   "outputs": [
    {
     "data": {
      "text/plain": [
       "<AxesSubplot:xlabel='title'>"
      ]
     },
     "execution_count": 14,
     "metadata": {},
     "output_type": "execute_result"
    },
    {
     "data": {
      "image/png": "[encoded data removed]",
      "text/plain": [
       "<Figure size 432x288 with 1 Axes>"
      ]
     },
     "metadata": {
      "needs_background": "light"
     },
     "output_type": "display_data"
    }
   ],
   "source": [
    "train_copy = train.copy()\n",
    "\n",
    "title_array = []\n",
    "names = train_copy['Name']\n",
    "# names\n",
    "for n in range(len(names)):\n",
    "    name = names[n]\n",
    "    title = name.split(\" \")[1]\n",
    "    if title == 'Mr.':\n",
    "        title_array.append('Mr.')\n",
    "    elif title in ['Miss.','Mlle.','Mme.','Ms.']:\n",
    "        title_array.append('Miss.')\n",
    "    elif title in [\"Mrs.\"]:\n",
    "        title_array.append(\"Mrs.\")\n",
    "    elif title in [\"Master.\"]:\n",
    "        title_array.append('Master.')\n",
    "    else:\n",
    "        title_array.append('rare')\n",
    "\n",
    "pd.Series(title_array).value_counts()\n",
    "train_copy['title'] = title_array\n",
    "\n",
    "train_copy[[\"Survived\",'title']].groupby('title').mean().plot.bar()"
   ]
  },
  {
   "cell_type": "markdown",
   "metadata": {},
   "source": [
    "Now lets try to figure out family names"
   ]
  },
  {
   "cell_type": "code",
   "execution_count": 15,
   "metadata": {},
   "outputs": [
    {
     "data": {
      "text/plain": [
       "<AxesSubplot:xlabel='family_size'>"
      ]
     },
     "execution_count": 15,
     "metadata": {},
     "output_type": "execute_result"
    },
    {
     "data": {
      "image/png": "[encoded data removed]",
      "text/plain": [
       "<Figure size 432x288 with 1 Axes>"
      ]
     },
     "metadata": {
      "needs_background": "light"
     },
     "output_type": "display_data"
    }
   ],
   "source": [
    "train_copy = train.copy()\n",
    "\n",
    "names = train_copy['Name']\n",
    "family_name_arr = []\n",
    "family_size_arr = []\n",
    "family_size_cat = []\n",
    "for n in range(len(names)):\n",
    "    name = names[n].lower()\n",
    "    family_name = name.split(\" \")[0]\n",
    "    family_name_arr.append(family_name)\n",
    "\n",
    "for f in family_name_arr:\n",
    "    family_size = family_name_arr.count(f)\n",
    "    family_size_arr.append(family_size)\n",
    "    \n",
    "    if family_size == 1:\n",
    "        family_size_cat.append('single')\n",
    "    elif family_size <=4:\n",
    "        family_size_cat.append('small')\n",
    "    else:\n",
    "        family_size_cat.append('large')\n",
    "        \n",
    "train_copy['family_name'] = family_name_arr\n",
    "train_copy['family_size'] = family_size_cat\n",
    "train_copy[['family_size','Survived']].groupby('family_size').mean().plot.bar()"
   ]
  },
  {
   "cell_type": "markdown",
   "metadata": {},
   "source": [
    "Now for cabin names"
   ]
  },
  {
   "cell_type": "code",
   "execution_count": 16,
   "metadata": {},
   "outputs": [
    {
     "data": {
      "text/plain": [
       "<AxesSubplot:xlabel='cabin_letters'>"
      ]
     },
     "execution_count": 16,
     "metadata": {},
     "output_type": "execute_result"
    },
    {
     "data": {
      "image/png": "[encoded data removed]",
      "text/plain": [
       "<Figure size 432x288 with 1 Axes>"
      ]
     },
     "metadata": {
      "needs_background": "light"
     },
     "output_type": "display_data"
    }
   ],
   "source": [
    "train_copy = train.copy()\n",
    "cabin_letters = []\n",
    "\n",
    "for n in train_copy['Cabin']:\n",
    "    n = str(n)\n",
    "    if list(n)[0] in ['A','B','C','D','E','F','G']:\n",
    "        cabin_letters.append(list(n)[0])\n",
    "    else:\n",
    "        cabin_letters.append(\"NAN\")\n",
    "train_copy['cabin_letters'] = cabin_letters\n",
    "train_copy[['cabin_letters','Survived']].groupby('cabin_letters').mean().plot.bar()\n"
   ]
  },
  {
   "cell_type": "markdown",
   "metadata": {},
   "source": [
    "In conclusion, Name, Passenger ID, Ticket and  Cabin should all be removed. Age and Embarked have missing data. Sex, pclass and embarked need to be categorical (for sex its just binary, use a one-hot encoder for embarked)"
   ]
  },
  {
   "cell_type": "markdown",
   "metadata": {},
   "source": [
    "# Prepare Data"
   ]
  },
  {
   "cell_type": "code",
   "execution_count": 17,
   "metadata": {},
   "outputs": [],
   "source": [
    "X_train = train.drop([\"Survived\"],axis = 1)\n",
    "y_train = train[\"Survived\"]\n",
    "\n",
    "# X_train.drop([\"PassengerId\", \"Cabin\", \"Name\", \"Ticket\"],axis = 1, inplace = True)"
   ]
  },
  {
   "cell_type": "code",
   "execution_count": 18,
   "metadata": {},
   "outputs": [
    {
     "name": "stdout",
     "output_type": "stream",
     "text": [
      "<class 'pandas.core.frame.DataFrame'>\n",
      "RangeIndex: 891 entries, 0 to 890\n",
      "Data columns (total 11 columns):\n",
      " #   Column       Non-Null Count  Dtype  \n",
      "---  ------       --------------  -----  \n",
      " 0   PassengerId  891 non-null    int64  \n",
      " 1   Pclass       891 non-null    int64  \n",
      " 2   Name         891 non-null    object \n",
      " 3   Sex          891 non-null    object \n",
      " 4   Age          714 non-null    float64\n",
      " 5   SibSp        891 non-null    int64  \n",
      " 6   Parch        891 non-null    int64  \n",
      " 7   Ticket       891 non-null    object \n",
      " 8   Fare         891 non-null    float64\n",
      " 9   Cabin        204 non-null    object \n",
      " 10  Embarked     889 non-null    object \n",
      "dtypes: float64(2), int64(4), object(5)\n",
      "memory usage: 76.7+ KB\n"
     ]
    }
   ],
   "source": [
    "X_train.info()"
   ]
  },
  {
   "cell_type": "markdown",
   "metadata": {},
   "source": [
    "###  Numerical Pipeline"
   ]
  },
  {
   "cell_type": "code",
   "execution_count": 19,
   "metadata": {},
   "outputs": [],
   "source": [
    "from sklearn.impute import SimpleImputer\n",
    "from sklearn.preprocessing import StandardScaler\n",
    "from sklearn.pipeline import Pipeline\n",
    "\n",
    "numeric_pipeline = Pipeline([('numeric_imputer',SimpleImputer(strategy = 'median')), # Since mean may skew older\n",
    "                            ('numeric_scaler',StandardScaler())])\n"
   ]
  },
  {
   "cell_type": "markdown",
   "metadata": {},
   "source": [
    "###  Categorical Pipeline"
   ]
  },
  {
   "cell_type": "code",
   "execution_count": 20,
   "metadata": {},
   "outputs": [],
   "source": [
    "from sklearn.pipeline import Pipeline\n",
    "from sklearn.preprocessing import OneHotEncoder\n",
    "from sklearn.base import BaseEstimator, TransformerMixin\n",
    "\n",
    "class AttributeAdder(BaseEstimator,TransformerMixin):\n",
    "    def fit(self, X, y=None):\n",
    "        return self\n",
    "    def transform(self, X):  \n",
    "        ticket_series = X[[\"Ticket\"]]\n",
    "        ticket_array = np.array(ticket_series)\n",
    "        ticket_prefix = ticket_array.copy()\n",
    "        for n in range(ticket_array.shape[0]): \n",
    "            split = ticket_array[n][0].split(\" \")\n",
    "            if len(split) == 1:\n",
    "                if split[0] == 'LINE':\n",
    "                    ticket_prefix[n] = 'LINE'\n",
    "                else:\n",
    "                    ticket_prefix[n] = 'Nothin'\n",
    "            else:\n",
    "                new = split[0].upper()\n",
    "                new = new.replace('.','')\n",
    "                new = new.replace('/','')\n",
    "                if new[0] == 'A':\n",
    "                    ticket_prefix[n] = 'A'\n",
    "                elif new[:3] in ['SOT','STO']:\n",
    "                    ticket_prefix[n] = 'STO'\n",
    "                else:\n",
    "                    ticket_prefix[n] = new[:3]\n",
    "        \n",
    "        unique, counts = np.unique(ticket_prefix, return_counts=True)\n",
    "        for i in zip(unique,counts):\n",
    "            prefix = i[0]\n",
    "            count = i[1]\n",
    "            if count <10:\n",
    "                ticket_prefix[ticket_prefix == prefix] = 'Nothin'      \n",
    "        \n",
    "        title_array = []\n",
    "        names = X['Name']\n",
    "        # names\n",
    "        for n in range(len(names)):\n",
    "            name = names[n]\n",
    "            title = name.split(\" \")[1]\n",
    "            if title == 'Mr.':\n",
    "                title_array.append('Mr.')\n",
    "            elif title in ['Miss.','Mlle.','Mme.','Ms.']:\n",
    "                title_array.append('Miss.')\n",
    "            elif title in [\"Mrs.\"]:\n",
    "                title_array.append(\"Mrs.\")\n",
    "            elif title in [\"Master.\"]:\n",
    "                title_array.append('Master.')\n",
    "            else:\n",
    "                title_array.append('rare')\n",
    "        \n",
    "        family_name_arr = []\n",
    "        family_size_arr = []\n",
    "        family_size_cat = []\n",
    "        for n in range(len(names)):\n",
    "            name = names[n].lower()\n",
    "            family_name = name.split(\" \")[0]\n",
    "            family_name_arr.append(family_name)\n",
    "\n",
    "        for f in family_name_arr:\n",
    "            family_size = family_name_arr.count(f)\n",
    "            family_size_arr.append(family_size)\n",
    "\n",
    "            if family_size == 1:\n",
    "                family_size_cat.append('single')\n",
    "            elif family_size <=4:\n",
    "                family_size_cat.append('small')\n",
    "            else:\n",
    "                family_size_cat.append('large')\n",
    "                \n",
    "        cabin_letters = []\n",
    "        for n in X['Cabin']:\n",
    "            n = str(n)\n",
    "            if list(n)[0] in ['A','B','C','D','E','F','G']:\n",
    "                cabin_letters.append(list(n)[0])\n",
    "            else:\n",
    "                cabin_letters.append(\"NAN\")\n",
    "        return np.c_[X.drop([\"Ticket\",'Name','Cabin'],axis = 1), ticket_prefix, title_array, family_size_cat,cabin_letters]\n",
    "\n",
    "cat_imputer = SimpleImputer(strategy = 'most_frequent')\n",
    "\n",
    "categorical_pipeline = Pipeline([('ticket_prefix_adder',AttributeAdder()),\n",
    "                                ('categorical_imputer',SimpleImputer(strategy = 'most_frequent')),\n",
    "                                ('encoder', OneHotEncoder(sparse = False))])\n"
   ]
  },
  {
   "cell_type": "code",
   "execution_count": 21,
   "metadata": {},
   "outputs": [],
   "source": [
    "from sklearn.compose import ColumnTransformer\n",
    "\n",
    "num_attribs = ['Age','SibSp','Parch','Fare']\n",
    "cat_attribs = ['Pclass', 'Sex','Embarked','Ticket', 'Name', 'Cabin']\n",
    "\n",
    "full_pipeline = ColumnTransformer([('numeric',numeric_pipeline,num_attribs),\n",
    "                                  ('categorical',categorical_pipeline,cat_attribs)])"
   ]
  },
  {
   "cell_type": "code",
   "execution_count": 22,
   "metadata": {},
   "outputs": [],
   "source": [
    "# Remove the 80 year old\n",
    "\n",
    "X_train_outlier_removed = X_train[X_train.loc[:,'Age'] != 80].reset_index()\n",
    "X_train_outlier_removed.drop('index',axis = 1,inplace= True)\n",
    "y_train_prepared = y_train[X_train['Age'] != 80]\n",
    "X_train_prepared = full_pipeline.fit_transform(X_train_outlier_removed)"
   ]
  },
  {
   "cell_type": "markdown",
   "metadata": {},
   "source": [
    "# Model Time "
   ]
  },
  {
   "cell_type": "code",
   "execution_count": 23,
   "metadata": {},
   "outputs": [],
   "source": [
    "def grid_search_df(grid_search_cv_results):\n",
    "    return pd.concat([pd.DataFrame(grid_search_cv_results[\"params\"]),pd.DataFrame(grid_search_cv_results[\"mean_test_score\"], columns=[\"Accuracy\"])],axis=1).sort_values('Accuracy',ascending = False)"
   ]
  },
  {
   "cell_type": "markdown",
   "metadata": {},
   "source": [
    "### SVC"
   ]
  },
  {
   "cell_type": "code",
   "execution_count": 24,
   "metadata": {},
   "outputs": [
    {
     "name": "stdout",
     "output_type": "stream",
     "text": [
      "Fitting 5 folds for each of 48 candidates, totalling 240 fits\n"
     ]
    },
    {
     "name": "stderr",
     "output_type": "stream",
     "text": [
      "[Parallel(n_jobs=1)]: Using backend SequentialBackend with 1 concurrent workers.\n",
      "[Parallel(n_jobs=1)]: Done 240 out of 240 | elapsed:    9.4s finished\n"
     ]
    },
    {
     "data": {
      "text/plain": [
       "GridSearchCV(cv=5, estimator=SVC(),\n",
       "             param_grid=[{'degree': [0.01, 0.1, 1, 3, 5, 10],\n",
       "                          'gamma': ['scale', 'auto'],\n",
       "                          'kernel': ['linear', 'poly', 'rbf', 'sigmoid']}],\n",
       "             return_train_score=True, scoring='accuracy', verbose=1)"
      ]
     },
     "execution_count": 24,
     "metadata": {},
     "output_type": "execute_result"
    }
   ],
   "source": [
    "from sklearn.svm import SVC\n",
    "from sklearn.model_selection import cross_val_score\n",
    "from sklearn.model_selection import GridSearchCV\n",
    "\n",
    "svc = SVC()\n",
    "\n",
    "param_grid = [{'kernel':['linear','poly','rbf','sigmoid'],\n",
    "              'degree':[0.01,0.1,1,3,5,10],\n",
    "              'gamma':['scale','auto']}]\n",
    "svc_grid_search = GridSearchCV(svc,param_grid,cv = 5, scoring = 'accuracy', return_train_score = True,verbose = 1)\n",
    "\n",
    "svc_grid_search.fit(X_train_prepared,y_train_prepared)\n"
   ]
  },
  {
   "cell_type": "code",
   "execution_count": 25,
   "metadata": {},
   "outputs": [
    {
     "data": {
      "text/html": [
       "<div>\n",
       "<style scoped>\n",
       "    .dataframe tbody tr th:only-of-type {\n",
       "        vertical-align: middle;\n",
       "    }\n",
       "\n",
       "    .dataframe tbody tr th {\n",
       "        vertical-align: top;\n",
       "    }\n",
       "\n",
       "    .dataframe thead th {\n",
       "        text-align: right;\n",
       "    }\n",
       "</style>\n",
       "<table border=\"1\" class=\"dataframe\">\n",
       "  <thead>\n",
       "    <tr style=\"text-align: right;\">\n",
       "      <th></th>\n",
       "      <th>degree</th>\n",
       "      <th>gamma</th>\n",
       "      <th>kernel</th>\n",
       "      <th>Accuracy</th>\n",
       "    </tr>\n",
       "  </thead>\n",
       "  <tbody>\n",
       "    <tr>\n",
       "      <th>10</th>\n",
       "      <td>0.10</td>\n",
       "      <td>scale</td>\n",
       "      <td>rbf</td>\n",
       "      <td>0.832584</td>\n",
       "    </tr>\n",
       "    <tr>\n",
       "      <th>34</th>\n",
       "      <td>5.00</td>\n",
       "      <td>scale</td>\n",
       "      <td>rbf</td>\n",
       "      <td>0.832584</td>\n",
       "    </tr>\n",
       "    <tr>\n",
       "      <th>2</th>\n",
       "      <td>0.01</td>\n",
       "      <td>scale</td>\n",
       "      <td>rbf</td>\n",
       "      <td>0.832584</td>\n",
       "    </tr>\n",
       "    <tr>\n",
       "      <th>26</th>\n",
       "      <td>3.00</td>\n",
       "      <td>scale</td>\n",
       "      <td>rbf</td>\n",
       "      <td>0.832584</td>\n",
       "    </tr>\n",
       "    <tr>\n",
       "      <th>18</th>\n",
       "      <td>1.00</td>\n",
       "      <td>scale</td>\n",
       "      <td>rbf</td>\n",
       "      <td>0.832584</td>\n",
       "    </tr>\n",
       "    <tr>\n",
       "      <th>42</th>\n",
       "      <td>10.00</td>\n",
       "      <td>scale</td>\n",
       "      <td>rbf</td>\n",
       "      <td>0.832584</td>\n",
       "    </tr>\n",
       "    <tr>\n",
       "      <th>25</th>\n",
       "      <td>3.00</td>\n",
       "      <td>scale</td>\n",
       "      <td>poly</td>\n",
       "      <td>0.831461</td>\n",
       "    </tr>\n",
       "    <tr>\n",
       "      <th>38</th>\n",
       "      <td>5.00</td>\n",
       "      <td>auto</td>\n",
       "      <td>rbf</td>\n",
       "      <td>0.829213</td>\n",
       "    </tr>\n",
       "    <tr>\n",
       "      <th>22</th>\n",
       "      <td>1.00</td>\n",
       "      <td>auto</td>\n",
       "      <td>rbf</td>\n",
       "      <td>0.829213</td>\n",
       "    </tr>\n",
       "    <tr>\n",
       "      <th>6</th>\n",
       "      <td>0.01</td>\n",
       "      <td>auto</td>\n",
       "      <td>rbf</td>\n",
       "      <td>0.829213</td>\n",
       "    </tr>\n",
       "  </tbody>\n",
       "</table>\n",
       "</div>"
      ],
      "text/plain": [
       "    degree  gamma kernel  Accuracy\n",
       "10    0.10  scale    rbf  0.832584\n",
       "34    5.00  scale    rbf  0.832584\n",
       "2     0.01  scale    rbf  0.832584\n",
       "26    3.00  scale    rbf  0.832584\n",
       "18    1.00  scale    rbf  0.832584\n",
       "42   10.00  scale    rbf  0.832584\n",
       "25    3.00  scale   poly  0.831461\n",
       "38    5.00   auto    rbf  0.829213\n",
       "22    1.00   auto    rbf  0.829213\n",
       "6     0.01   auto    rbf  0.829213"
      ]
     },
     "execution_count": 25,
     "metadata": {},
     "output_type": "execute_result"
    }
   ],
   "source": [
    "grid_search_df(svc_grid_search.cv_results_).head(10)"
   ]
  },
  {
   "cell_type": "code",
   "execution_count": 26,
   "metadata": {},
   "outputs": [
    {
     "data": {
      "text/plain": [
       "[{'kernel': ['linear', 'poly', 'rbf', 'sigmoid'],\n",
       "  'degree': [0.01, 0.1, 1, 3, 5, 10],\n",
       "  'gamma': ['scale', 'auto']}]"
      ]
     },
     "execution_count": 26,
     "metadata": {},
     "output_type": "execute_result"
    }
   ],
   "source": [
    "svc_grid_search.best_params_\n",
    "svc_grid_search.param_grid"
   ]
  },
  {
   "cell_type": "code",
   "execution_count": 27,
   "metadata": {},
   "outputs": [],
   "source": [
    "svc_classifier = SVC(**svc_grid_search.best_params_)\n",
    "svc_classifier.fit(X_train_prepared,y_train_prepared)\n",
    "\n",
    "svc_scores = cross_val_score(svc_classifier,X_train_prepared,y_train_prepared, cv = 10)"
   ]
  },
  {
   "cell_type": "code",
   "execution_count": 28,
   "metadata": {},
   "outputs": [
    {
     "data": {
      "text/plain": [
       "0.8370786516853933"
      ]
     },
     "execution_count": 28,
     "metadata": {},
     "output_type": "execute_result"
    }
   ],
   "source": [
    "svc_scores.mean()"
   ]
  },
  {
   "cell_type": "markdown",
   "metadata": {},
   "source": [
    "### Random Forest"
   ]
  },
  {
   "cell_type": "code",
   "execution_count": 29,
   "metadata": {
    "scrolled": true
   },
   "outputs": [
    {
     "name": "stdout",
     "output_type": "stream",
     "text": [
      "Fitting 5 folds for each of 12 candidates, totalling 60 fits\n",
      "[CV] criterion=gini, max_features=sqrt, n_estimators=10 ..............\n",
      "[CV]  criterion=gini, max_features=sqrt, n_estimators=10, total=   0.0s\n",
      "[CV] criterion=gini, max_features=sqrt, n_estimators=10 ..............\n",
      "[CV]  criterion=gini, max_features=sqrt, n_estimators=10, total=   0.0s\n",
      "[CV] criterion=gini, max_features=sqrt, n_estimators=10 ..............\n",
      "[CV]  criterion=gini, max_features=sqrt, n_estimators=10, total=   0.0s\n",
      "[CV] criterion=gini, max_features=sqrt, n_estimators=10 ..............\n",
      "[CV]  criterion=gini, max_features=sqrt, n_estimators=10, total=   0.0s\n",
      "[CV] criterion=gini, max_features=sqrt, n_estimators=10 ..............\n",
      "[CV]  criterion=gini, max_features=sqrt, n_estimators=10, total=   0.0s\n",
      "[CV] criterion=gini, max_features=sqrt, n_estimators=100 .............\n"
     ]
    },
    {
     "name": "stderr",
     "output_type": "stream",
     "text": [
      "[Parallel(n_jobs=1)]: Using backend SequentialBackend with 1 concurrent workers.\n",
      "[Parallel(n_jobs=1)]: Done   1 out of   1 | elapsed:    0.0s remaining:    0.0s\n"
     ]
    },
    {
     "name": "stdout",
     "output_type": "stream",
     "text": [
      "[CV]  criterion=gini, max_features=sqrt, n_estimators=100, total=   0.2s\n",
      "[CV] criterion=gini, max_features=sqrt, n_estimators=100 .............\n",
      "[CV]  criterion=gini, max_features=sqrt, n_estimators=100, total=   0.2s\n",
      "[CV] criterion=gini, max_features=sqrt, n_estimators=100 .............\n",
      "[CV]  criterion=gini, max_features=sqrt, n_estimators=100, total=   0.2s\n",
      "[CV] criterion=gini, max_features=sqrt, n_estimators=100 .............\n",
      "[CV]  criterion=gini, max_features=sqrt, n_estimators=100, total=   0.2s\n",
      "[CV] criterion=gini, max_features=sqrt, n_estimators=100 .............\n",
      "[CV]  criterion=gini, max_features=sqrt, n_estimators=100, total=   0.2s\n",
      "[CV] criterion=gini, max_features=sqrt, n_estimators=1000 ............\n",
      "[CV]  criterion=gini, max_features=sqrt, n_estimators=1000, total=   1.9s\n",
      "[CV] criterion=gini, max_features=sqrt, n_estimators=1000 ............\n",
      "[CV]  criterion=gini, max_features=sqrt, n_estimators=1000, total=   1.8s\n",
      "[CV] criterion=gini, max_features=sqrt, n_estimators=1000 ............\n",
      "[CV]  criterion=gini, max_features=sqrt, n_estimators=1000, total=   2.0s\n",
      "[CV] criterion=gini, max_features=sqrt, n_estimators=1000 ............\n",
      "[CV]  criterion=gini, max_features=sqrt, n_estimators=1000, total=   1.9s\n",
      "[CV] criterion=gini, max_features=sqrt, n_estimators=1000 ............\n",
      "[CV]  criterion=gini, max_features=sqrt, n_estimators=1000, total=   1.8s\n",
      "[CV] criterion=gini, max_features=None, n_estimators=10 ..............\n",
      "[CV]  criterion=gini, max_features=None, n_estimators=10, total=   0.0s\n",
      "[CV] criterion=gini, max_features=None, n_estimators=10 ..............\n",
      "[CV]  criterion=gini, max_features=None, n_estimators=10, total=   0.0s\n",
      "[CV] criterion=gini, max_features=None, n_estimators=10 ..............\n",
      "[CV]  criterion=gini, max_features=None, n_estimators=10, total=   0.0s\n",
      "[CV] criterion=gini, max_features=None, n_estimators=10 ..............\n",
      "[CV]  criterion=gini, max_features=None, n_estimators=10, total=   0.0s\n",
      "[CV] criterion=gini, max_features=None, n_estimators=10 ..............\n",
      "[CV]  criterion=gini, max_features=None, n_estimators=10, total=   0.0s\n",
      "[CV] criterion=gini, max_features=None, n_estimators=100 .............\n",
      "[CV]  criterion=gini, max_features=None, n_estimators=100, total=   0.3s\n",
      "[CV] criterion=gini, max_features=None, n_estimators=100 .............\n",
      "[CV]  criterion=gini, max_features=None, n_estimators=100, total=   0.2s\n",
      "[CV] criterion=gini, max_features=None, n_estimators=100 .............\n",
      "[CV]  criterion=gini, max_features=None, n_estimators=100, total=   0.3s\n",
      "[CV] criterion=gini, max_features=None, n_estimators=100 .............\n",
      "[CV]  criterion=gini, max_features=None, n_estimators=100, total=   0.3s\n",
      "[CV] criterion=gini, max_features=None, n_estimators=100 .............\n",
      "[CV]  criterion=gini, max_features=None, n_estimators=100, total=   0.3s\n",
      "[CV] criterion=gini, max_features=None, n_estimators=1000 ............\n",
      "[CV]  criterion=gini, max_features=None, n_estimators=1000, total=   2.8s\n",
      "[CV] criterion=gini, max_features=None, n_estimators=1000 ............\n",
      "[CV]  criterion=gini, max_features=None, n_estimators=1000, total=   2.9s\n",
      "[CV] criterion=gini, max_features=None, n_estimators=1000 ............\n",
      "[CV]  criterion=gini, max_features=None, n_estimators=1000, total=   2.8s\n",
      "[CV] criterion=gini, max_features=None, n_estimators=1000 ............\n",
      "[CV]  criterion=gini, max_features=None, n_estimators=1000, total=   2.9s\n",
      "[CV] criterion=gini, max_features=None, n_estimators=1000 ............\n",
      "[CV]  criterion=gini, max_features=None, n_estimators=1000, total=   2.6s\n",
      "[CV] criterion=entropy, max_features=sqrt, n_estimators=10 ...........\n",
      "[CV]  criterion=entropy, max_features=sqrt, n_estimators=10, total=   0.0s\n",
      "[CV] criterion=entropy, max_features=sqrt, n_estimators=10 ...........\n",
      "[CV]  criterion=entropy, max_features=sqrt, n_estimators=10, total=   0.0s\n",
      "[CV] criterion=entropy, max_features=sqrt, n_estimators=10 ...........\n",
      "[CV]  criterion=entropy, max_features=sqrt, n_estimators=10, total=   0.0s\n",
      "[CV] criterion=entropy, max_features=sqrt, n_estimators=10 ...........\n",
      "[CV]  criterion=entropy, max_features=sqrt, n_estimators=10, total=   0.0s\n",
      "[CV] criterion=entropy, max_features=sqrt, n_estimators=10 ...........\n",
      "[CV]  criterion=entropy, max_features=sqrt, n_estimators=10, total=   0.0s\n",
      "[CV] criterion=entropy, max_features=sqrt, n_estimators=100 ..........\n",
      "[CV]  criterion=entropy, max_features=sqrt, n_estimators=100, total=   0.2s\n",
      "[CV] criterion=entropy, max_features=sqrt, n_estimators=100 ..........\n",
      "[CV]  criterion=entropy, max_features=sqrt, n_estimators=100, total=   0.2s\n",
      "[CV] criterion=entropy, max_features=sqrt, n_estimators=100 ..........\n",
      "[CV]  criterion=entropy, max_features=sqrt, n_estimators=100, total=   0.2s\n",
      "[CV] criterion=entropy, max_features=sqrt, n_estimators=100 ..........\n",
      "[CV]  criterion=entropy, max_features=sqrt, n_estimators=100, total=   0.2s\n",
      "[CV] criterion=entropy, max_features=sqrt, n_estimators=100 ..........\n",
      "[CV]  criterion=entropy, max_features=sqrt, n_estimators=100, total=   0.2s\n",
      "[CV] criterion=entropy, max_features=sqrt, n_estimators=1000 .........\n",
      "[CV]  criterion=entropy, max_features=sqrt, n_estimators=1000, total=   1.9s\n",
      "[CV] criterion=entropy, max_features=sqrt, n_estimators=1000 .........\n",
      "[CV]  criterion=entropy, max_features=sqrt, n_estimators=1000, total=   2.0s\n",
      "[CV] criterion=entropy, max_features=sqrt, n_estimators=1000 .........\n",
      "[CV]  criterion=entropy, max_features=sqrt, n_estimators=1000, total=   1.9s\n",
      "[CV] criterion=entropy, max_features=sqrt, n_estimators=1000 .........\n",
      "[CV]  criterion=entropy, max_features=sqrt, n_estimators=1000, total=   1.9s\n",
      "[CV] criterion=entropy, max_features=sqrt, n_estimators=1000 .........\n",
      "[CV]  criterion=entropy, max_features=sqrt, n_estimators=1000, total=   1.8s\n",
      "[CV] criterion=entropy, max_features=None, n_estimators=10 ...........\n",
      "[CV]  criterion=entropy, max_features=None, n_estimators=10, total=   0.0s\n",
      "[CV] criterion=entropy, max_features=None, n_estimators=10 ...........\n",
      "[CV]  criterion=entropy, max_features=None, n_estimators=10, total=   0.0s\n",
      "[CV] criterion=entropy, max_features=None, n_estimators=10 ...........\n",
      "[CV]  criterion=entropy, max_features=None, n_estimators=10, total=   0.0s\n",
      "[CV] criterion=entropy, max_features=None, n_estimators=10 ...........\n",
      "[CV]  criterion=entropy, max_features=None, n_estimators=10, total=   0.0s\n",
      "[CV] criterion=entropy, max_features=None, n_estimators=10 ...........\n",
      "[CV]  criterion=entropy, max_features=None, n_estimators=10, total=   0.0s\n",
      "[CV] criterion=entropy, max_features=None, n_estimators=100 ..........\n",
      "[CV]  criterion=entropy, max_features=None, n_estimators=100, total=   0.3s\n",
      "[CV] criterion=entropy, max_features=None, n_estimators=100 ..........\n",
      "[CV]  criterion=entropy, max_features=None, n_estimators=100, total=   0.3s\n",
      "[CV] criterion=entropy, max_features=None, n_estimators=100 ..........\n",
      "[CV]  criterion=entropy, max_features=None, n_estimators=100, total=   0.3s\n",
      "[CV] criterion=entropy, max_features=None, n_estimators=100 ..........\n",
      "[CV]  criterion=entropy, max_features=None, n_estimators=100, total=   0.4s\n",
      "[CV] criterion=entropy, max_features=None, n_estimators=100 ..........\n",
      "[CV]  criterion=entropy, max_features=None, n_estimators=100, total=   0.3s\n",
      "[CV] criterion=entropy, max_features=None, n_estimators=1000 .........\n",
      "[CV]  criterion=entropy, max_features=None, n_estimators=1000, total=   3.2s\n",
      "[CV] criterion=entropy, max_features=None, n_estimators=1000 .........\n",
      "[CV]  criterion=entropy, max_features=None, n_estimators=1000, total=   3.0s\n",
      "[CV] criterion=entropy, max_features=None, n_estimators=1000 .........\n",
      "[CV]  criterion=entropy, max_features=None, n_estimators=1000, total=   3.2s\n",
      "[CV] criterion=entropy, max_features=None, n_estimators=1000 .........\n",
      "[CV]  criterion=entropy, max_features=None, n_estimators=1000, total=   3.0s\n",
      "[CV] criterion=entropy, max_features=None, n_estimators=1000 .........\n",
      "[CV]  criterion=entropy, max_features=None, n_estimators=1000, total=   3.0s\n"
     ]
    },
    {
     "name": "stderr",
     "output_type": "stream",
     "text": [
      "[Parallel(n_jobs=1)]: Done  60 out of  60 | elapsed:   57.3s finished\n"
     ]
    },
    {
     "data": {
      "text/plain": [
       "GridSearchCV(cv=5, estimator=RandomForestClassifier(),\n",
       "             param_grid=[{'criterion': ['gini', 'entropy'],\n",
       "                          'max_features': ['sqrt', None],\n",
       "                          'n_estimators': [10, 100, 1000]}],\n",
       "             return_train_score=True, scoring='accuracy', verbose=2)"
      ]
     },
     "execution_count": 29,
     "metadata": {},
     "output_type": "execute_result"
    }
   ],
   "source": [
    "from sklearn.ensemble import RandomForestClassifier\n",
    "\n",
    "forest = RandomForestClassifier()\n",
    "\n",
    "param_grid = [{'n_estimators':[10,100,1000],\n",
    "              'criterion':['gini','entropy'],\n",
    "              'max_features':['sqrt',None]}]\n",
    "grid_search_forest = GridSearchCV(forest,param_grid,cv = 5, scoring = 'accuracy', return_train_score = True, verbose= 2)\n",
    "\n",
    "grid_search_forest.fit(X_train_prepared,y_train_prepared)"
   ]
  },
  {
   "cell_type": "code",
   "execution_count": 30,
   "metadata": {
    "scrolled": true
   },
   "outputs": [
    {
     "data": {
      "text/html": [
       "<div>\n",
       "<style scoped>\n",
       "    .dataframe tbody tr th:only-of-type {\n",
       "        vertical-align: middle;\n",
       "    }\n",
       "\n",
       "    .dataframe tbody tr th {\n",
       "        vertical-align: top;\n",
       "    }\n",
       "\n",
       "    .dataframe thead th {\n",
       "        text-align: right;\n",
       "    }\n",
       "</style>\n",
       "<table border=\"1\" class=\"dataframe\">\n",
       "  <thead>\n",
       "    <tr style=\"text-align: right;\">\n",
       "      <th></th>\n",
       "      <th>criterion</th>\n",
       "      <th>max_features</th>\n",
       "      <th>n_estimators</th>\n",
       "      <th>Accuracy</th>\n",
       "    </tr>\n",
       "  </thead>\n",
       "  <tbody>\n",
       "    <tr>\n",
       "      <th>5</th>\n",
       "      <td>gini</td>\n",
       "      <td>None</td>\n",
       "      <td>1000</td>\n",
       "      <td>0.833708</td>\n",
       "    </tr>\n",
       "    <tr>\n",
       "      <th>11</th>\n",
       "      <td>entropy</td>\n",
       "      <td>None</td>\n",
       "      <td>1000</td>\n",
       "      <td>0.825843</td>\n",
       "    </tr>\n",
       "    <tr>\n",
       "      <th>4</th>\n",
       "      <td>gini</td>\n",
       "      <td>None</td>\n",
       "      <td>100</td>\n",
       "      <td>0.822472</td>\n",
       "    </tr>\n",
       "    <tr>\n",
       "      <th>10</th>\n",
       "      <td>entropy</td>\n",
       "      <td>None</td>\n",
       "      <td>100</td>\n",
       "      <td>0.820225</td>\n",
       "    </tr>\n",
       "    <tr>\n",
       "      <th>3</th>\n",
       "      <td>gini</td>\n",
       "      <td>None</td>\n",
       "      <td>10</td>\n",
       "      <td>0.819101</td>\n",
       "    </tr>\n",
       "    <tr>\n",
       "      <th>0</th>\n",
       "      <td>gini</td>\n",
       "      <td>sqrt</td>\n",
       "      <td>10</td>\n",
       "      <td>0.812360</td>\n",
       "    </tr>\n",
       "    <tr>\n",
       "      <th>6</th>\n",
       "      <td>entropy</td>\n",
       "      <td>sqrt</td>\n",
       "      <td>10</td>\n",
       "      <td>0.812360</td>\n",
       "    </tr>\n",
       "    <tr>\n",
       "      <th>1</th>\n",
       "      <td>gini</td>\n",
       "      <td>sqrt</td>\n",
       "      <td>100</td>\n",
       "      <td>0.808989</td>\n",
       "    </tr>\n",
       "    <tr>\n",
       "      <th>9</th>\n",
       "      <td>entropy</td>\n",
       "      <td>None</td>\n",
       "      <td>10</td>\n",
       "      <td>0.807865</td>\n",
       "    </tr>\n",
       "    <tr>\n",
       "      <th>7</th>\n",
       "      <td>entropy</td>\n",
       "      <td>sqrt</td>\n",
       "      <td>100</td>\n",
       "      <td>0.806742</td>\n",
       "    </tr>\n",
       "    <tr>\n",
       "      <th>8</th>\n",
       "      <td>entropy</td>\n",
       "      <td>sqrt</td>\n",
       "      <td>1000</td>\n",
       "      <td>0.805618</td>\n",
       "    </tr>\n",
       "    <tr>\n",
       "      <th>2</th>\n",
       "      <td>gini</td>\n",
       "      <td>sqrt</td>\n",
       "      <td>1000</td>\n",
       "      <td>0.804494</td>\n",
       "    </tr>\n",
       "  </tbody>\n",
       "</table>\n",
       "</div>"
      ],
      "text/plain": [
       "   criterion max_features  n_estimators  Accuracy\n",
       "5       gini         None          1000  0.833708\n",
       "11   entropy         None          1000  0.825843\n",
       "4       gini         None           100  0.822472\n",
       "10   entropy         None           100  0.820225\n",
       "3       gini         None            10  0.819101\n",
       "0       gini         sqrt            10  0.812360\n",
       "6    entropy         sqrt            10  0.812360\n",
       "1       gini         sqrt           100  0.808989\n",
       "9    entropy         None            10  0.807865\n",
       "7    entropy         sqrt           100  0.806742\n",
       "8    entropy         sqrt          1000  0.805618\n",
       "2       gini         sqrt          1000  0.804494"
      ]
     },
     "execution_count": 30,
     "metadata": {},
     "output_type": "execute_result"
    }
   ],
   "source": [
    "grid_search_df(grid_search_forest.cv_results_)"
   ]
  },
  {
   "cell_type": "code",
   "execution_count": 31,
   "metadata": {},
   "outputs": [],
   "source": [
    "from sklearn.ensemble import RandomForestClassifier\n",
    "\n",
    "random_forest_classifier = RandomForestClassifier(**grid_search_forest.best_params_)\n",
    "random_forest_classifier.fit(X_train_prepared, y_train_prepared)\n",
    "\n",
    "random_forest_scores = cross_val_score(random_forest_classifier,X_train_prepared,y_train_prepared,cv = 10)"
   ]
  },
  {
   "cell_type": "code",
   "execution_count": 32,
   "metadata": {},
   "outputs": [
    {
     "data": {
      "text/plain": [
       "0.8247191011235955"
      ]
     },
     "execution_count": 32,
     "metadata": {},
     "output_type": "execute_result"
    }
   ],
   "source": [
    "random_forest_scores.mean()"
   ]
  },
  {
   "cell_type": "markdown",
   "metadata": {},
   "source": [
    "### Logistic Regression"
   ]
  },
  {
   "cell_type": "code",
   "execution_count": 33,
   "metadata": {
    "scrolled": true
   },
   "outputs": [
    {
     "name": "stdout",
     "output_type": "stream",
     "text": [
      "Fitting 5 folds for each of 8 candidates, totalling 40 fits\n",
      "[CV] max_iter=100, penalty=l2, solver=newton-cg ......................\n",
      "[CV] ....... max_iter=100, penalty=l2, solver=newton-cg, total=   0.0s\n",
      "[CV] max_iter=100, penalty=l2, solver=newton-cg ......................\n",
      "[CV] ....... max_iter=100, penalty=l2, solver=newton-cg, total=   0.0s\n",
      "[CV] max_iter=100, penalty=l2, solver=newton-cg ......................\n",
      "[CV] ....... max_iter=100, penalty=l2, solver=newton-cg, total=   0.0s\n",
      "[CV] max_iter=100, penalty=l2, solver=newton-cg ......................\n",
      "[CV] ....... max_iter=100, penalty=l2, solver=newton-cg, total=   0.0s\n",
      "[CV] max_iter=100, penalty=l2, solver=newton-cg ......................\n",
      "[CV] ....... max_iter=100, penalty=l2, solver=newton-cg, total=   0.0s\n",
      "[CV] max_iter=100, penalty=l2, solver=lbfgs ..........................\n",
      "[CV] ........... max_iter=100, penalty=l2, solver=lbfgs, total=   0.0s\n",
      "[CV] max_iter=100, penalty=l2, solver=lbfgs ..........................\n",
      "[CV] ........... max_iter=100, penalty=l2, solver=lbfgs, total=   0.0s\n",
      "[CV] max_iter=100, penalty=l2, solver=lbfgs ..........................\n",
      "[CV] ........... max_iter=100, penalty=l2, solver=lbfgs, total=   0.0s\n",
      "[CV] max_iter=100, penalty=l2, solver=lbfgs ..........................\n",
      "[CV] ........... max_iter=100, penalty=l2, solver=lbfgs, total=   0.0s\n",
      "[CV] max_iter=100, penalty=l2, solver=lbfgs ..........................\n",
      "[CV] ........... max_iter=100, penalty=l2, solver=lbfgs, total=   0.0s"
     ]
    },
    {
     "name": "stderr",
     "output_type": "stream",
     "text": [
      "[Parallel(n_jobs=1)]: Using backend SequentialBackend with 1 concurrent workers.\n",
      "[Parallel(n_jobs=1)]: Done   1 out of   1 | elapsed:    0.0s remaining:    0.0s\n"
     ]
    },
    {
     "name": "stdout",
     "output_type": "stream",
     "text": [
      "\n",
      "[CV] max_iter=100, penalty=l1, solver=newton-cg ......................\n",
      "[CV] ....... max_iter=100, penalty=l1, solver=newton-cg, total=   0.0s\n",
      "[CV] max_iter=100, penalty=l1, solver=newton-cg ......................\n",
      "[CV] ....... max_iter=100, penalty=l1, solver=newton-cg, total=   0.0s\n",
      "[CV] max_iter=100, penalty=l1, solver=newton-cg ......................\n",
      "[CV] ....... max_iter=100, penalty=l1, solver=newton-cg, total=   0.0s\n",
      "[CV] max_iter=100, penalty=l1, solver=newton-cg ......................\n",
      "[CV] ....... max_iter=100, penalty=l1, solver=newton-cg, total=   0.0s\n",
      "[CV] max_iter=100, penalty=l1, solver=newton-cg ......................\n",
      "[CV] ....... max_iter=100, penalty=l1, solver=newton-cg, total=   0.0s\n",
      "[CV] max_iter=100, penalty=l1, solver=lbfgs ..........................\n",
      "[CV] ........... max_iter=100, penalty=l1, solver=lbfgs, total=   0.0s\n",
      "[CV] max_iter=100, penalty=l1, solver=lbfgs ..........................\n",
      "[CV] ........... max_iter=100, penalty=l1, solver=lbfgs, total=   0.0s\n",
      "[CV] max_iter=100, penalty=l1, solver=lbfgs ..........................\n",
      "[CV] ........... max_iter=100, penalty=l1, solver=lbfgs, total=   0.0s\n",
      "[CV] max_iter=100, penalty=l1, solver=lbfgs ..........................\n",
      "[CV] ........... max_iter=100, penalty=l1, solver=lbfgs, total=   0.0s\n",
      "[CV] max_iter=100, penalty=l1, solver=lbfgs ..........................\n",
      "[CV] ........... max_iter=100, penalty=l1, solver=lbfgs, total=   0.0s\n",
      "[CV] max_iter=1000, penalty=l2, solver=newton-cg .....................\n",
      "[CV] ...... max_iter=1000, penalty=l2, solver=newton-cg, total=   0.0s\n",
      "[CV] max_iter=1000, penalty=l2, solver=newton-cg .....................\n",
      "[CV] ...... max_iter=1000, penalty=l2, solver=newton-cg, total=   0.0s\n",
      "[CV] max_iter=1000, penalty=l2, solver=newton-cg .....................\n",
      "[CV] ...... max_iter=1000, penalty=l2, solver=newton-cg, total=   0.0s\n",
      "[CV] max_iter=1000, penalty=l2, solver=newton-cg .....................\n",
      "[CV] ...... max_iter=1000, penalty=l2, solver=newton-cg, total=   0.0s\n",
      "[CV] max_iter=1000, penalty=l2, solver=newton-cg .....................\n",
      "[CV] ...... max_iter=1000, penalty=l2, solver=newton-cg, total=   0.0s\n",
      "[CV] max_iter=1000, penalty=l2, solver=lbfgs .........................\n",
      "[CV] .......... max_iter=1000, penalty=l2, solver=lbfgs, total=   0.0s\n",
      "[CV] max_iter=1000, penalty=l2, solver=lbfgs .........................\n",
      "[CV] .......... max_iter=1000, penalty=l2, solver=lbfgs, total=   0.0s\n",
      "[CV] max_iter=1000, penalty=l2, solver=lbfgs .........................\n"
     ]
    },
    {
     "name": "stderr",
     "output_type": "stream",
     "text": [
      "C:\\Users\\verta\\anaconda3\\lib\\site-packages\\sklearn\\model_selection\\_validation.py:548: FitFailedWarning: Estimator fit failed. The score on this train-test partition for these parameters will be set to nan. Details: \n",
      "Traceback (most recent call last):\n",
      "  File \"C:\\Users\\verta\\anaconda3\\lib\\site-packages\\sklearn\\model_selection\\_validation.py\", line 531, in _fit_and_score\n",
      "    estimator.fit(X_train, y_train, **fit_params)\n",
      "  File \"C:\\Users\\verta\\anaconda3\\lib\\site-packages\\sklearn\\linear_model\\_logistic.py\", line 1304, in fit\n",
      "    solver = _check_solver(self.solver, self.penalty, self.dual)\n",
      "  File \"C:\\Users\\verta\\anaconda3\\lib\\site-packages\\sklearn\\linear_model\\_logistic.py\", line 442, in _check_solver\n",
      "    raise ValueError(\"Solver %s supports only 'l2' or 'none' penalties, \"\n",
      "ValueError: Solver newton-cg supports only 'l2' or 'none' penalties, got l1 penalty.\n",
      "\n",
      "  warnings.warn(\"Estimator fit failed. The score on this train-test\"\n",
      "C:\\Users\\verta\\anaconda3\\lib\\site-packages\\sklearn\\model_selection\\_validation.py:548: FitFailedWarning: Estimator fit failed. The score on this train-test partition for these parameters will be set to nan. Details: \n",
      "Traceback (most recent call last):\n",
      "  File \"C:\\Users\\verta\\anaconda3\\lib\\site-packages\\sklearn\\model_selection\\_validation.py\", line 531, in _fit_and_score\n",
      "    estimator.fit(X_train, y_train, **fit_params)\n",
      "  File \"C:\\Users\\verta\\anaconda3\\lib\\site-packages\\sklearn\\linear_model\\_logistic.py\", line 1304, in fit\n",
      "    solver = _check_solver(self.solver, self.penalty, self.dual)\n",
      "  File \"C:\\Users\\verta\\anaconda3\\lib\\site-packages\\sklearn\\linear_model\\_logistic.py\", line 442, in _check_solver\n",
      "    raise ValueError(\"Solver %s supports only 'l2' or 'none' penalties, \"\n",
      "ValueError: Solver lbfgs supports only 'l2' or 'none' penalties, got l1 penalty.\n",
      "\n",
      "  warnings.warn(\"Estimator fit failed. The score on this train-test\"\n"
     ]
    },
    {
     "name": "stdout",
     "output_type": "stream",
     "text": [
      "[CV] .......... max_iter=1000, penalty=l2, solver=lbfgs, total=   0.0s\n",
      "[CV] max_iter=1000, penalty=l2, solver=lbfgs .........................\n",
      "[CV] .......... max_iter=1000, penalty=l2, solver=lbfgs, total=   0.0s\n",
      "[CV] max_iter=1000, penalty=l2, solver=lbfgs .........................\n",
      "[CV] .......... max_iter=1000, penalty=l2, solver=lbfgs, total=   0.0s\n",
      "[CV] max_iter=1000, penalty=l1, solver=newton-cg .....................\n",
      "[CV] ...... max_iter=1000, penalty=l1, solver=newton-cg, total=   0.0s\n",
      "[CV] max_iter=1000, penalty=l1, solver=newton-cg .....................\n",
      "[CV] ...... max_iter=1000, penalty=l1, solver=newton-cg, total=   0.0s\n",
      "[CV] max_iter=1000, penalty=l1, solver=newton-cg .....................\n",
      "[CV] ...... max_iter=1000, penalty=l1, solver=newton-cg, total=   0.0s\n",
      "[CV] max_iter=1000, penalty=l1, solver=newton-cg .....................\n",
      "[CV] ...... max_iter=1000, penalty=l1, solver=newton-cg, total=   0.0s\n",
      "[CV] max_iter=1000, penalty=l1, solver=newton-cg .....................\n",
      "[CV] ...... max_iter=1000, penalty=l1, solver=newton-cg, total=   0.0s\n",
      "[CV] max_iter=1000, penalty=l1, solver=lbfgs .........................\n",
      "[CV] .......... max_iter=1000, penalty=l1, solver=lbfgs, total=   0.0s\n",
      "[CV] max_iter=1000, penalty=l1, solver=lbfgs .........................\n",
      "[CV] .......... max_iter=1000, penalty=l1, solver=lbfgs, total=   0.0s\n",
      "[CV] max_iter=1000, penalty=l1, solver=lbfgs .........................\n",
      "[CV] .......... max_iter=1000, penalty=l1, solver=lbfgs, total=   0.0s\n",
      "[CV] max_iter=1000, penalty=l1, solver=lbfgs .........................\n",
      "[CV] .......... max_iter=1000, penalty=l1, solver=lbfgs, total=   0.0s\n",
      "[CV] max_iter=1000, penalty=l1, solver=lbfgs .........................\n",
      "[CV] .......... max_iter=1000, penalty=l1, solver=lbfgs, total=   0.0s\n"
     ]
    },
    {
     "name": "stderr",
     "output_type": "stream",
     "text": [
      "C:\\Users\\verta\\anaconda3\\lib\\site-packages\\sklearn\\model_selection\\_validation.py:548: FitFailedWarning: Estimator fit failed. The score on this train-test partition for these parameters will be set to nan. Details: \n",
      "Traceback (most recent call last):\n",
      "  File \"C:\\Users\\verta\\anaconda3\\lib\\site-packages\\sklearn\\model_selection\\_validation.py\", line 531, in _fit_and_score\n",
      "    estimator.fit(X_train, y_train, **fit_params)\n",
      "  File \"C:\\Users\\verta\\anaconda3\\lib\\site-packages\\sklearn\\linear_model\\_logistic.py\", line 1304, in fit\n",
      "    solver = _check_solver(self.solver, self.penalty, self.dual)\n",
      "  File \"C:\\Users\\verta\\anaconda3\\lib\\site-packages\\sklearn\\linear_model\\_logistic.py\", line 442, in _check_solver\n",
      "    raise ValueError(\"Solver %s supports only 'l2' or 'none' penalties, \"\n",
      "ValueError: Solver newton-cg supports only 'l2' or 'none' penalties, got l1 penalty.\n",
      "\n",
      "  warnings.warn(\"Estimator fit failed. The score on this train-test\"\n",
      "C:\\Users\\verta\\anaconda3\\lib\\site-packages\\sklearn\\model_selection\\_validation.py:548: FitFailedWarning: Estimator fit failed. The score on this train-test partition for these parameters will be set to nan. Details: \n",
      "Traceback (most recent call last):\n",
      "  File \"C:\\Users\\verta\\anaconda3\\lib\\site-packages\\sklearn\\model_selection\\_validation.py\", line 531, in _fit_and_score\n",
      "    estimator.fit(X_train, y_train, **fit_params)\n",
      "  File \"C:\\Users\\verta\\anaconda3\\lib\\site-packages\\sklearn\\linear_model\\_logistic.py\", line 1304, in fit\n",
      "    solver = _check_solver(self.solver, self.penalty, self.dual)\n",
      "  File \"C:\\Users\\verta\\anaconda3\\lib\\site-packages\\sklearn\\linear_model\\_logistic.py\", line 442, in _check_solver\n",
      "    raise ValueError(\"Solver %s supports only 'l2' or 'none' penalties, \"\n",
      "ValueError: Solver lbfgs supports only 'l2' or 'none' penalties, got l1 penalty.\n",
      "\n",
      "  warnings.warn(\"Estimator fit failed. The score on this train-test\"\n",
      "[Parallel(n_jobs=1)]: Done  40 out of  40 | elapsed:    0.4s finished\n"
     ]
    },
    {
     "data": {
      "text/plain": [
       "GridSearchCV(cv=5, estimator=LogisticRegression(),\n",
       "             param_grid=[{'max_iter': [100, 1000], 'penalty': ['l2', 'l1'],\n",
       "                          'solver': ['newton-cg', 'lbfgs']}],\n",
       "             return_train_score=True, scoring='accuracy', verbose=2)"
      ]
     },
     "execution_count": 33,
     "metadata": {},
     "output_type": "execute_result"
    }
   ],
   "source": [
    "from sklearn.linear_model import LogisticRegression\n",
    "\n",
    "param_grid = [{'solver':['newton-cg','lbfgs'],\n",
    "              'penalty':['l2','l1'],\n",
    "               'max_iter':[100,1000]\n",
    "              }]\n",
    "\n",
    "logistic_regression_classifier = LogisticRegression()\n",
    "grid_search_logistic = GridSearchCV(logistic_regression_classifier,param_grid, cv = 5, scoring = 'accuracy', return_train_score = True, verbose= 2)\n",
    "grid_search_logistic.fit(X_train_prepared,y_train_prepared)"
   ]
  },
  {
   "cell_type": "code",
   "execution_count": 34,
   "metadata": {
    "scrolled": true
   },
   "outputs": [
    {
     "data": {
      "text/html": [
       "<div>\n",
       "<style scoped>\n",
       "    .dataframe tbody tr th:only-of-type {\n",
       "        vertical-align: middle;\n",
       "    }\n",
       "\n",
       "    .dataframe tbody tr th {\n",
       "        vertical-align: top;\n",
       "    }\n",
       "\n",
       "    .dataframe thead th {\n",
       "        text-align: right;\n",
       "    }\n",
       "</style>\n",
       "<table border=\"1\" class=\"dataframe\">\n",
       "  <thead>\n",
       "    <tr style=\"text-align: right;\">\n",
       "      <th></th>\n",
       "      <th>max_iter</th>\n",
       "      <th>penalty</th>\n",
       "      <th>solver</th>\n",
       "      <th>Accuracy</th>\n",
       "    </tr>\n",
       "  </thead>\n",
       "  <tbody>\n",
       "    <tr>\n",
       "      <th>0</th>\n",
       "      <td>100</td>\n",
       "      <td>l2</td>\n",
       "      <td>newton-cg</td>\n",
       "      <td>0.829213</td>\n",
       "    </tr>\n",
       "    <tr>\n",
       "      <th>1</th>\n",
       "      <td>100</td>\n",
       "      <td>l2</td>\n",
       "      <td>lbfgs</td>\n",
       "      <td>0.829213</td>\n",
       "    </tr>\n",
       "    <tr>\n",
       "      <th>4</th>\n",
       "      <td>1000</td>\n",
       "      <td>l2</td>\n",
       "      <td>newton-cg</td>\n",
       "      <td>0.829213</td>\n",
       "    </tr>\n",
       "    <tr>\n",
       "      <th>5</th>\n",
       "      <td>1000</td>\n",
       "      <td>l2</td>\n",
       "      <td>lbfgs</td>\n",
       "      <td>0.829213</td>\n",
       "    </tr>\n",
       "    <tr>\n",
       "      <th>2</th>\n",
       "      <td>100</td>\n",
       "      <td>l1</td>\n",
       "      <td>newton-cg</td>\n",
       "      <td>NaN</td>\n",
       "    </tr>\n",
       "    <tr>\n",
       "      <th>3</th>\n",
       "      <td>100</td>\n",
       "      <td>l1</td>\n",
       "      <td>lbfgs</td>\n",
       "      <td>NaN</td>\n",
       "    </tr>\n",
       "    <tr>\n",
       "      <th>6</th>\n",
       "      <td>1000</td>\n",
       "      <td>l1</td>\n",
       "      <td>newton-cg</td>\n",
       "      <td>NaN</td>\n",
       "    </tr>\n",
       "    <tr>\n",
       "      <th>7</th>\n",
       "      <td>1000</td>\n",
       "      <td>l1</td>\n",
       "      <td>lbfgs</td>\n",
       "      <td>NaN</td>\n",
       "    </tr>\n",
       "  </tbody>\n",
       "</table>\n",
       "</div>"
      ],
      "text/plain": [
       "   max_iter penalty     solver  Accuracy\n",
       "0       100      l2  newton-cg  0.829213\n",
       "1       100      l2      lbfgs  0.829213\n",
       "4      1000      l2  newton-cg  0.829213\n",
       "5      1000      l2      lbfgs  0.829213\n",
       "2       100      l1  newton-cg       NaN\n",
       "3       100      l1      lbfgs       NaN\n",
       "6      1000      l1  newton-cg       NaN\n",
       "7      1000      l1      lbfgs       NaN"
      ]
     },
     "execution_count": 34,
     "metadata": {},
     "output_type": "execute_result"
    }
   ],
   "source": [
    "grid_search_df(grid_search_logistic.cv_results_)"
   ]
  },
  {
   "cell_type": "code",
   "execution_count": 35,
   "metadata": {
    "scrolled": true
   },
   "outputs": [],
   "source": [
    "logistic = LogisticRegression(**grid_search_logistic.best_params_)\n",
    "\n",
    "logistic.fit(X_train_prepared,y_train_prepared)\n",
    "\n",
    "logistic_regression_scores = cross_val_score(logistic,X_train_prepared,y_train_prepared, cv = 10)"
   ]
  },
  {
   "cell_type": "code",
   "execution_count": 36,
   "metadata": {},
   "outputs": [
    {
     "data": {
      "text/plain": [
       "0.8303370786516855"
      ]
     },
     "execution_count": 36,
     "metadata": {},
     "output_type": "execute_result"
    }
   ],
   "source": [
    "logistic_regression_scores.mean()"
   ]
  },
  {
   "cell_type": "markdown",
   "metadata": {},
   "source": [
    "### K-neighbours "
   ]
  },
  {
   "cell_type": "code",
   "execution_count": 37,
   "metadata": {},
   "outputs": [
    {
     "name": "stdout",
     "output_type": "stream",
     "text": [
      "Fitting 5 folds for each of 48 candidates, totalling 240 fits\n",
      "[CV] algorithm=auto, n_neighbors=1, weights=uniform ..................\n",
      "[CV] ... algorithm=auto, n_neighbors=1, weights=uniform, total=   0.0s\n",
      "[CV] algorithm=auto, n_neighbors=1, weights=uniform ..................\n",
      "[CV] ... algorithm=auto, n_neighbors=1, weights=uniform, total=   0.0s\n",
      "[CV] algorithm=auto, n_neighbors=1, weights=uniform ..................\n",
      "[CV] ... algorithm=auto, n_neighbors=1, weights=uniform, total=   0.0s\n",
      "[CV] algorithm=auto, n_neighbors=1, weights=uniform ..................\n"
     ]
    },
    {
     "name": "stderr",
     "output_type": "stream",
     "text": [
      "[Parallel(n_jobs=1)]: Using backend SequentialBackend with 1 concurrent workers.\n",
      "[Parallel(n_jobs=1)]: Done   1 out of   1 | elapsed:    0.0s remaining:    0.0s\n"
     ]
    },
    {
     "name": "stdout",
     "output_type": "stream",
     "text": [
      "[CV] ... algorithm=auto, n_neighbors=1, weights=uniform, total=   0.0s\n",
      "[CV] algorithm=auto, n_neighbors=1, weights=uniform ..................\n",
      "[CV] ... algorithm=auto, n_neighbors=1, weights=uniform, total=   0.0s\n",
      "[CV] algorithm=auto, n_neighbors=1, weights=distance .................\n",
      "[CV] .. algorithm=auto, n_neighbors=1, weights=distance, total=   0.0s\n",
      "[CV] algorithm=auto, n_neighbors=1, weights=distance .................\n",
      "[CV] .. algorithm=auto, n_neighbors=1, weights=distance, total=   0.0s\n",
      "[CV] algorithm=auto, n_neighbors=1, weights=distance .................\n",
      "[CV] .. algorithm=auto, n_neighbors=1, weights=distance, total=   0.0s\n",
      "[CV] algorithm=auto, n_neighbors=1, weights=distance .................\n",
      "[CV] .. algorithm=auto, n_neighbors=1, weights=distance, total=   0.0s\n",
      "[CV] algorithm=auto, n_neighbors=1, weights=distance .................\n",
      "[CV] .. algorithm=auto, n_neighbors=1, weights=distance, total=   0.0s\n",
      "[CV] algorithm=auto, n_neighbors=3, weights=uniform ..................\n",
      "[CV] ... algorithm=auto, n_neighbors=3, weights=uniform, total=   0.0s\n",
      "[CV] algorithm=auto, n_neighbors=3, weights=uniform ..................\n",
      "[CV] ... algorithm=auto, n_neighbors=3, weights=uniform, total=   0.0s\n",
      "[CV] algorithm=auto, n_neighbors=3, weights=uniform ..................\n",
      "[CV] ... algorithm=auto, n_neighbors=3, weights=uniform, total=   0.0s\n",
      "[CV] algorithm=auto, n_neighbors=3, weights=uniform ..................\n",
      "[CV] ... algorithm=auto, n_neighbors=3, weights=uniform, total=   0.0s\n",
      "[CV] algorithm=auto, n_neighbors=3, weights=uniform ..................\n",
      "[CV] ... algorithm=auto, n_neighbors=3, weights=uniform, total=   0.0s\n",
      "[CV] algorithm=auto, n_neighbors=3, weights=distance .................\n",
      "[CV] .. algorithm=auto, n_neighbors=3, weights=distance, total=   0.0s\n",
      "[CV] algorithm=auto, n_neighbors=3, weights=distance .................\n",
      "[CV] .. algorithm=auto, n_neighbors=3, weights=distance, total=   0.0s\n",
      "[CV] algorithm=auto, n_neighbors=3, weights=distance .................\n",
      "[CV] .. algorithm=auto, n_neighbors=3, weights=distance, total=   0.0s\n",
      "[CV] algorithm=auto, n_neighbors=3, weights=distance .................\n",
      "[CV] .. algorithm=auto, n_neighbors=3, weights=distance, total=   0.0s\n",
      "[CV] algorithm=auto, n_neighbors=3, weights=distance .................\n",
      "[CV] .. algorithm=auto, n_neighbors=3, weights=distance, total=   0.0s\n",
      "[CV] algorithm=auto, n_neighbors=5, weights=uniform ..................\n",
      "[CV] ... algorithm=auto, n_neighbors=5, weights=uniform, total=   0.0s\n",
      "[CV] algorithm=auto, n_neighbors=5, weights=uniform ..................\n",
      "[CV] ... algorithm=auto, n_neighbors=5, weights=uniform, total=   0.0s\n",
      "[CV] algorithm=auto, n_neighbors=5, weights=uniform ..................\n",
      "[CV] ... algorithm=auto, n_neighbors=5, weights=uniform, total=   0.0s\n",
      "[CV] algorithm=auto, n_neighbors=5, weights=uniform ..................\n",
      "[CV] ... algorithm=auto, n_neighbors=5, weights=uniform, total=   0.0s\n",
      "[CV] algorithm=auto, n_neighbors=5, weights=uniform ..................\n",
      "[CV] ... algorithm=auto, n_neighbors=5, weights=uniform, total=   0.0s\n",
      "[CV] algorithm=auto, n_neighbors=5, weights=distance .................\n",
      "[CV] .. algorithm=auto, n_neighbors=5, weights=distance, total=   0.0s\n",
      "[CV] algorithm=auto, n_neighbors=5, weights=distance .................\n",
      "[CV] .. algorithm=auto, n_neighbors=5, weights=distance, total=   0.0s\n",
      "[CV] algorithm=auto, n_neighbors=5, weights=distance .................\n",
      "[CV] .. algorithm=auto, n_neighbors=5, weights=distance, total=   0.0s\n",
      "[CV] algorithm=auto, n_neighbors=5, weights=distance .................\n",
      "[CV] .. algorithm=auto, n_neighbors=5, weights=distance, total=   0.0s\n",
      "[CV] algorithm=auto, n_neighbors=5, weights=distance .................\n",
      "[CV] .. algorithm=auto, n_neighbors=5, weights=distance, total=   0.0s\n",
      "[CV] algorithm=auto, n_neighbors=7, weights=uniform ..................\n",
      "[CV] ... algorithm=auto, n_neighbors=7, weights=uniform, total=   0.0s\n",
      "[CV] algorithm=auto, n_neighbors=7, weights=uniform ..................\n",
      "[CV] ... algorithm=auto, n_neighbors=7, weights=uniform, total=   0.0s\n",
      "[CV] algorithm=auto, n_neighbors=7, weights=uniform ..................\n",
      "[CV] ... algorithm=auto, n_neighbors=7, weights=uniform, total=   0.0s\n",
      "[CV] algorithm=auto, n_neighbors=7, weights=uniform ..................\n",
      "[CV] ... algorithm=auto, n_neighbors=7, weights=uniform, total=   0.0s\n",
      "[CV] algorithm=auto, n_neighbors=7, weights=uniform ..................\n",
      "[CV] ... algorithm=auto, n_neighbors=7, weights=uniform, total=   0.0s\n",
      "[CV] algorithm=auto, n_neighbors=7, weights=distance .................\n",
      "[CV] .. algorithm=auto, n_neighbors=7, weights=distance, total=   0.0s\n",
      "[CV] algorithm=auto, n_neighbors=7, weights=distance .................\n",
      "[CV] .. algorithm=auto, n_neighbors=7, weights=distance, total=   0.0s\n",
      "[CV] algorithm=auto, n_neighbors=7, weights=distance .................\n",
      "[CV] .. algorithm=auto, n_neighbors=7, weights=distance, total=   0.0s\n",
      "[CV] algorithm=auto, n_neighbors=7, weights=distance .................\n",
      "[CV] .. algorithm=auto, n_neighbors=7, weights=distance, total=   0.0s\n",
      "[CV] algorithm=auto, n_neighbors=7, weights=distance .................\n",
      "[CV] .. algorithm=auto, n_neighbors=7, weights=distance, total=   0.0s\n",
      "[CV] algorithm=auto, n_neighbors=10, weights=uniform .................\n",
      "[CV] .. algorithm=auto, n_neighbors=10, weights=uniform, total=   0.0s\n",
      "[CV] algorithm=auto, n_neighbors=10, weights=uniform .................\n",
      "[CV] .. algorithm=auto, n_neighbors=10, weights=uniform, total=   0.0s\n",
      "[CV] algorithm=auto, n_neighbors=10, weights=uniform .................\n",
      "[CV] .. algorithm=auto, n_neighbors=10, weights=uniform, total=   0.0s\n",
      "[CV] algorithm=auto, n_neighbors=10, weights=uniform .................\n",
      "[CV] .. algorithm=auto, n_neighbors=10, weights=uniform, total=   0.0s\n",
      "[CV] algorithm=auto, n_neighbors=10, weights=uniform .................\n",
      "[CV] .. algorithm=auto, n_neighbors=10, weights=uniform, total=   0.0s\n",
      "[CV] algorithm=auto, n_neighbors=10, weights=distance ................\n",
      "[CV] . algorithm=auto, n_neighbors=10, weights=distance, total=   0.0s\n",
      "[CV] algorithm=auto, n_neighbors=10, weights=distance ................\n",
      "[CV] . algorithm=auto, n_neighbors=10, weights=distance, total=   0.0s\n",
      "[CV] algorithm=auto, n_neighbors=10, weights=distance ................\n",
      "[CV] . algorithm=auto, n_neighbors=10, weights=distance, total=   0.0s\n",
      "[CV] algorithm=auto, n_neighbors=10, weights=distance ................\n",
      "[CV] . algorithm=auto, n_neighbors=10, weights=distance, total=   0.0s\n",
      "[CV] algorithm=auto, n_neighbors=10, weights=distance ................\n",
      "[CV] . algorithm=auto, n_neighbors=10, weights=distance, total=   0.0s\n",
      "[CV] algorithm=auto, n_neighbors=15, weights=uniform .................\n",
      "[CV] .. algorithm=auto, n_neighbors=15, weights=uniform, total=   0.0s\n",
      "[CV] algorithm=auto, n_neighbors=15, weights=uniform .................\n",
      "[CV] .. algorithm=auto, n_neighbors=15, weights=uniform, total=   0.0s\n",
      "[CV] algorithm=auto, n_neighbors=15, weights=uniform .................\n",
      "[CV] .. algorithm=auto, n_neighbors=15, weights=uniform, total=   0.0s\n",
      "[CV] algorithm=auto, n_neighbors=15, weights=uniform .................\n",
      "[CV] .. algorithm=auto, n_neighbors=15, weights=uniform, total=   0.0s\n",
      "[CV] algorithm=auto, n_neighbors=15, weights=uniform .................\n",
      "[CV] .. algorithm=auto, n_neighbors=15, weights=uniform, total=   0.0s\n",
      "[CV] algorithm=auto, n_neighbors=15, weights=distance ................\n",
      "[CV] . algorithm=auto, n_neighbors=15, weights=distance, total=   0.0s\n",
      "[CV] algorithm=auto, n_neighbors=15, weights=distance ................\n",
      "[CV] . algorithm=auto, n_neighbors=15, weights=distance, total=   0.0s\n",
      "[CV] algorithm=auto, n_neighbors=15, weights=distance ................\n",
      "[CV] . algorithm=auto, n_neighbors=15, weights=distance, total=   0.0s\n",
      "[CV] algorithm=auto, n_neighbors=15, weights=distance ................\n",
      "[CV] . algorithm=auto, n_neighbors=15, weights=distance, total=   0.0s\n",
      "[CV] algorithm=auto, n_neighbors=15, weights=distance ................\n",
      "[CV] . algorithm=auto, n_neighbors=15, weights=distance, total=   0.0s\n",
      "[CV] algorithm=ball_tree, n_neighbors=1, weights=uniform .............\n",
      "[CV]  algorithm=ball_tree, n_neighbors=1, weights=uniform, total=   0.0s\n",
      "[CV] algorithm=ball_tree, n_neighbors=1, weights=uniform .............\n",
      "[CV]  algorithm=ball_tree, n_neighbors=1, weights=uniform, total=   0.0s\n",
      "[CV] algorithm=ball_tree, n_neighbors=1, weights=uniform .............\n"
     ]
    },
    {
     "name": "stdout",
     "output_type": "stream",
     "text": [
      "[CV]  algorithm=ball_tree, n_neighbors=1, weights=uniform, total=   0.0s\n",
      "[CV] algorithm=ball_tree, n_neighbors=1, weights=uniform .............\n",
      "[CV]  algorithm=ball_tree, n_neighbors=1, weights=uniform, total=   0.0s\n",
      "[CV] algorithm=ball_tree, n_neighbors=1, weights=uniform .............\n",
      "[CV]  algorithm=ball_tree, n_neighbors=1, weights=uniform, total=   0.0s\n",
      "[CV] algorithm=ball_tree, n_neighbors=1, weights=distance ............\n",
      "[CV]  algorithm=ball_tree, n_neighbors=1, weights=distance, total=   0.0s\n",
      "[CV] algorithm=ball_tree, n_neighbors=1, weights=distance ............\n",
      "[CV]  algorithm=ball_tree, n_neighbors=1, weights=distance, total=   0.0s\n",
      "[CV] algorithm=ball_tree, n_neighbors=1, weights=distance ............\n",
      "[CV]  algorithm=ball_tree, n_neighbors=1, weights=distance, total=   0.0s\n",
      "[CV] algorithm=ball_tree, n_neighbors=1, weights=distance ............\n",
      "[CV]  algorithm=ball_tree, n_neighbors=1, weights=distance, total=   0.0s\n",
      "[CV] algorithm=ball_tree, n_neighbors=1, weights=distance ............\n",
      "[CV]  algorithm=ball_tree, n_neighbors=1, weights=distance, total=   0.0s\n",
      "[CV] algorithm=ball_tree, n_neighbors=3, weights=uniform .............\n",
      "[CV]  algorithm=ball_tree, n_neighbors=3, weights=uniform, total=   0.0s\n",
      "[CV] algorithm=ball_tree, n_neighbors=3, weights=uniform .............\n",
      "[CV]  algorithm=ball_tree, n_neighbors=3, weights=uniform, total=   0.0s\n",
      "[CV] algorithm=ball_tree, n_neighbors=3, weights=uniform .............\n",
      "[CV]  algorithm=ball_tree, n_neighbors=3, weights=uniform, total=   0.0s\n",
      "[CV] algorithm=ball_tree, n_neighbors=3, weights=uniform .............\n",
      "[CV]  algorithm=ball_tree, n_neighbors=3, weights=uniform, total=   0.0s\n",
      "[CV] algorithm=ball_tree, n_neighbors=3, weights=uniform .............\n",
      "[CV]  algorithm=ball_tree, n_neighbors=3, weights=uniform, total=   0.0s\n",
      "[CV] algorithm=ball_tree, n_neighbors=3, weights=distance ............\n",
      "[CV]  algorithm=ball_tree, n_neighbors=3, weights=distance, total=   0.0s\n",
      "[CV] algorithm=ball_tree, n_neighbors=3, weights=distance ............\n",
      "[CV]  algorithm=ball_tree, n_neighbors=3, weights=distance, total=   0.0s\n",
      "[CV] algorithm=ball_tree, n_neighbors=3, weights=distance ............\n",
      "[CV]  algorithm=ball_tree, n_neighbors=3, weights=distance, total=   0.0s\n",
      "[CV] algorithm=ball_tree, n_neighbors=3, weights=distance ............\n",
      "[CV]  algorithm=ball_tree, n_neighbors=3, weights=distance, total=   0.0s\n",
      "[CV] algorithm=ball_tree, n_neighbors=3, weights=distance ............\n",
      "[CV]  algorithm=ball_tree, n_neighbors=3, weights=distance, total=   0.0s\n",
      "[CV] algorithm=ball_tree, n_neighbors=5, weights=uniform .............\n",
      "[CV]  algorithm=ball_tree, n_neighbors=5, weights=uniform, total=   0.0s\n",
      "[CV] algorithm=ball_tree, n_neighbors=5, weights=uniform .............\n",
      "[CV]  algorithm=ball_tree, n_neighbors=5, weights=uniform, total=   0.0s\n",
      "[CV] algorithm=ball_tree, n_neighbors=5, weights=uniform .............\n",
      "[CV]  algorithm=ball_tree, n_neighbors=5, weights=uniform, total=   0.0s\n",
      "[CV] algorithm=ball_tree, n_neighbors=5, weights=uniform .............\n",
      "[CV]  algorithm=ball_tree, n_neighbors=5, weights=uniform, total=   0.0s\n",
      "[CV] algorithm=ball_tree, n_neighbors=5, weights=uniform .............\n",
      "[CV]  algorithm=ball_tree, n_neighbors=5, weights=uniform, total=   0.0s\n",
      "[CV] algorithm=ball_tree, n_neighbors=5, weights=distance ............\n",
      "[CV]  algorithm=ball_tree, n_neighbors=5, weights=distance, total=   0.0s\n",
      "[CV] algorithm=ball_tree, n_neighbors=5, weights=distance ............\n",
      "[CV]  algorithm=ball_tree, n_neighbors=5, weights=distance, total=   0.0s\n",
      "[CV] algorithm=ball_tree, n_neighbors=5, weights=distance ............\n",
      "[CV]  algorithm=ball_tree, n_neighbors=5, weights=distance, total=   0.0s\n",
      "[CV] algorithm=ball_tree, n_neighbors=5, weights=distance ............\n",
      "[CV]  algorithm=ball_tree, n_neighbors=5, weights=distance, total=   0.0s\n",
      "[CV] algorithm=ball_tree, n_neighbors=5, weights=distance ............\n",
      "[CV]  algorithm=ball_tree, n_neighbors=5, weights=distance, total=   0.0s\n",
      "[CV] algorithm=ball_tree, n_neighbors=7, weights=uniform .............\n",
      "[CV]  algorithm=ball_tree, n_neighbors=7, weights=uniform, total=   0.0s\n",
      "[CV] algorithm=ball_tree, n_neighbors=7, weights=uniform .............\n",
      "[CV]  algorithm=ball_tree, n_neighbors=7, weights=uniform, total=   0.0s\n",
      "[CV] algorithm=ball_tree, n_neighbors=7, weights=uniform .............\n",
      "[CV]  algorithm=ball_tree, n_neighbors=7, weights=uniform, total=   0.0s\n",
      "[CV] algorithm=ball_tree, n_neighbors=7, weights=uniform .............\n",
      "[CV]  algorithm=ball_tree, n_neighbors=7, weights=uniform, total=   0.0s\n",
      "[CV] algorithm=ball_tree, n_neighbors=7, weights=uniform .............\n",
      "[CV]  algorithm=ball_tree, n_neighbors=7, weights=uniform, total=   0.0s\n",
      "[CV] algorithm=ball_tree, n_neighbors=7, weights=distance ............\n",
      "[CV]  algorithm=ball_tree, n_neighbors=7, weights=distance, total=   0.0s\n",
      "[CV] algorithm=ball_tree, n_neighbors=7, weights=distance ............\n",
      "[CV]  algorithm=ball_tree, n_neighbors=7, weights=distance, total=   0.0s\n",
      "[CV] algorithm=ball_tree, n_neighbors=7, weights=distance ............\n",
      "[CV]  algorithm=ball_tree, n_neighbors=7, weights=distance, total=   0.0s\n",
      "[CV] algorithm=ball_tree, n_neighbors=7, weights=distance ............\n",
      "[CV]  algorithm=ball_tree, n_neighbors=7, weights=distance, total=   0.0s\n",
      "[CV] algorithm=ball_tree, n_neighbors=7, weights=distance ............\n",
      "[CV]  algorithm=ball_tree, n_neighbors=7, weights=distance, total=   0.0s\n",
      "[CV] algorithm=ball_tree, n_neighbors=10, weights=uniform ............\n",
      "[CV]  algorithm=ball_tree, n_neighbors=10, weights=uniform, total=   0.0s\n",
      "[CV] algorithm=ball_tree, n_neighbors=10, weights=uniform ............\n",
      "[CV]  algorithm=ball_tree, n_neighbors=10, weights=uniform, total=   0.0s\n",
      "[CV] algorithm=ball_tree, n_neighbors=10, weights=uniform ............\n",
      "[CV]  algorithm=ball_tree, n_neighbors=10, weights=uniform, total=   0.0s\n",
      "[CV] algorithm=ball_tree, n_neighbors=10, weights=uniform ............\n",
      "[CV]  algorithm=ball_tree, n_neighbors=10, weights=uniform, total=   0.0s\n",
      "[CV] algorithm=ball_tree, n_neighbors=10, weights=uniform ............\n",
      "[CV]  algorithm=ball_tree, n_neighbors=10, weights=uniform, total=   0.0s\n",
      "[CV] algorithm=ball_tree, n_neighbors=10, weights=distance ...........\n",
      "[CV]  algorithm=ball_tree, n_neighbors=10, weights=distance, total=   0.0s\n",
      "[CV] algorithm=ball_tree, n_neighbors=10, weights=distance ...........\n",
      "[CV]  algorithm=ball_tree, n_neighbors=10, weights=distance, total=   0.0s\n",
      "[CV] algorithm=ball_tree, n_neighbors=10, weights=distance ...........\n",
      "[CV]  algorithm=ball_tree, n_neighbors=10, weights=distance, total=   0.0s\n",
      "[CV] algorithm=ball_tree, n_neighbors=10, weights=distance ...........\n",
      "[CV]  algorithm=ball_tree, n_neighbors=10, weights=distance, total=   0.0s\n",
      "[CV] algorithm=ball_tree, n_neighbors=10, weights=distance ...........\n",
      "[CV]  algorithm=ball_tree, n_neighbors=10, weights=distance, total=   0.0s\n",
      "[CV] algorithm=ball_tree, n_neighbors=15, weights=uniform ............\n",
      "[CV]  algorithm=ball_tree, n_neighbors=15, weights=uniform, total=   0.0s\n",
      "[CV] algorithm=ball_tree, n_neighbors=15, weights=uniform ............\n",
      "[CV]  algorithm=ball_tree, n_neighbors=15, weights=uniform, total=   0.0s\n",
      "[CV] algorithm=ball_tree, n_neighbors=15, weights=uniform ............\n",
      "[CV]  algorithm=ball_tree, n_neighbors=15, weights=uniform, total=   0.0s\n",
      "[CV] algorithm=ball_tree, n_neighbors=15, weights=uniform ............\n",
      "[CV]  algorithm=ball_tree, n_neighbors=15, weights=uniform, total=   0.0s\n",
      "[CV] algorithm=ball_tree, n_neighbors=15, weights=uniform ............\n",
      "[CV]  algorithm=ball_tree, n_neighbors=15, weights=uniform, total=   0.0s\n",
      "[CV] algorithm=ball_tree, n_neighbors=15, weights=distance ...........\n",
      "[CV]  algorithm=ball_tree, n_neighbors=15, weights=distance, total=   0.0s\n",
      "[CV] algorithm=ball_tree, n_neighbors=15, weights=distance ...........\n",
      "[CV]  algorithm=ball_tree, n_neighbors=15, weights=distance, total=   0.0s\n",
      "[CV] algorithm=ball_tree, n_neighbors=15, weights=distance ...........\n",
      "[CV]  algorithm=ball_tree, n_neighbors=15, weights=distance, total=   0.0s\n",
      "[CV] algorithm=ball_tree, n_neighbors=15, weights=distance ...........\n",
      "[CV]  algorithm=ball_tree, n_neighbors=15, weights=distance, total=   0.0s\n",
      "[CV] algorithm=ball_tree, n_neighbors=15, weights=distance ...........\n",
      "[CV]  algorithm=ball_tree, n_neighbors=15, weights=distance, total=   0.0s\n",
      "[CV] algorithm=kd_tree, n_neighbors=1, weights=uniform ...............\n",
      "[CV]  algorithm=kd_tree, n_neighbors=1, weights=uniform, total=   0.0s\n",
      "[CV] algorithm=kd_tree, n_neighbors=1, weights=uniform ...............\n",
      "[CV]  algorithm=kd_tree, n_neighbors=1, weights=uniform, total=   0.0s\n",
      "[CV] algorithm=kd_tree, n_neighbors=1, weights=uniform ...............\n"
     ]
    },
    {
     "name": "stdout",
     "output_type": "stream",
     "text": [
      "[CV]  algorithm=kd_tree, n_neighbors=1, weights=uniform, total=   0.0s\n",
      "[CV] algorithm=kd_tree, n_neighbors=1, weights=uniform ...............\n",
      "[CV]  algorithm=kd_tree, n_neighbors=1, weights=uniform, total=   0.0s\n",
      "[CV] algorithm=kd_tree, n_neighbors=1, weights=uniform ...............\n",
      "[CV]  algorithm=kd_tree, n_neighbors=1, weights=uniform, total=   0.0s\n",
      "[CV] algorithm=kd_tree, n_neighbors=1, weights=distance ..............\n",
      "[CV]  algorithm=kd_tree, n_neighbors=1, weights=distance, total=   0.0s\n",
      "[CV] algorithm=kd_tree, n_neighbors=1, weights=distance ..............\n",
      "[CV]  algorithm=kd_tree, n_neighbors=1, weights=distance, total=   0.0s\n",
      "[CV] algorithm=kd_tree, n_neighbors=1, weights=distance ..............\n",
      "[CV]  algorithm=kd_tree, n_neighbors=1, weights=distance, total=   0.0s\n",
      "[CV] algorithm=kd_tree, n_neighbors=1, weights=distance ..............\n",
      "[CV]  algorithm=kd_tree, n_neighbors=1, weights=distance, total=   0.0s\n",
      "[CV] algorithm=kd_tree, n_neighbors=1, weights=distance ..............\n",
      "[CV]  algorithm=kd_tree, n_neighbors=1, weights=distance, total=   0.0s\n",
      "[CV] algorithm=kd_tree, n_neighbors=3, weights=uniform ...............\n",
      "[CV]  algorithm=kd_tree, n_neighbors=3, weights=uniform, total=   0.0s\n",
      "[CV] algorithm=kd_tree, n_neighbors=3, weights=uniform ...............\n",
      "[CV]  algorithm=kd_tree, n_neighbors=3, weights=uniform, total=   0.0s\n",
      "[CV] algorithm=kd_tree, n_neighbors=3, weights=uniform ...............\n",
      "[CV]  algorithm=kd_tree, n_neighbors=3, weights=uniform, total=   0.0s\n",
      "[CV] algorithm=kd_tree, n_neighbors=3, weights=uniform ...............\n",
      "[CV]  algorithm=kd_tree, n_neighbors=3, weights=uniform, total=   0.0s\n",
      "[CV] algorithm=kd_tree, n_neighbors=3, weights=uniform ...............\n",
      "[CV]  algorithm=kd_tree, n_neighbors=3, weights=uniform, total=   0.0s\n",
      "[CV] algorithm=kd_tree, n_neighbors=3, weights=distance ..............\n",
      "[CV]  algorithm=kd_tree, n_neighbors=3, weights=distance, total=   0.0s\n",
      "[CV] algorithm=kd_tree, n_neighbors=3, weights=distance ..............\n",
      "[CV]  algorithm=kd_tree, n_neighbors=3, weights=distance, total=   0.0s\n",
      "[CV] algorithm=kd_tree, n_neighbors=3, weights=distance ..............\n",
      "[CV]  algorithm=kd_tree, n_neighbors=3, weights=distance, total=   0.0s\n",
      "[CV] algorithm=kd_tree, n_neighbors=3, weights=distance ..............\n",
      "[CV]  algorithm=kd_tree, n_neighbors=3, weights=distance, total=   0.0s\n",
      "[CV] algorithm=kd_tree, n_neighbors=3, weights=distance ..............\n",
      "[CV]  algorithm=kd_tree, n_neighbors=3, weights=distance, total=   0.0s\n",
      "[CV] algorithm=kd_tree, n_neighbors=5, weights=uniform ...............\n",
      "[CV]  algorithm=kd_tree, n_neighbors=5, weights=uniform, total=   0.0s\n",
      "[CV] algorithm=kd_tree, n_neighbors=5, weights=uniform ...............\n",
      "[CV]  algorithm=kd_tree, n_neighbors=5, weights=uniform, total=   0.0s\n",
      "[CV] algorithm=kd_tree, n_neighbors=5, weights=uniform ...............\n",
      "[CV]  algorithm=kd_tree, n_neighbors=5, weights=uniform, total=   0.0s\n",
      "[CV] algorithm=kd_tree, n_neighbors=5, weights=uniform ...............\n",
      "[CV]  algorithm=kd_tree, n_neighbors=5, weights=uniform, total=   0.0s\n",
      "[CV] algorithm=kd_tree, n_neighbors=5, weights=uniform ...............\n",
      "[CV]  algorithm=kd_tree, n_neighbors=5, weights=uniform, total=   0.0s\n",
      "[CV] algorithm=kd_tree, n_neighbors=5, weights=distance ..............\n",
      "[CV]  algorithm=kd_tree, n_neighbors=5, weights=distance, total=   0.0s\n",
      "[CV] algorithm=kd_tree, n_neighbors=5, weights=distance ..............\n",
      "[CV]  algorithm=kd_tree, n_neighbors=5, weights=distance, total=   0.0s\n",
      "[CV] algorithm=kd_tree, n_neighbors=5, weights=distance ..............\n",
      "[CV]  algorithm=kd_tree, n_neighbors=5, weights=distance, total=   0.0s\n",
      "[CV] algorithm=kd_tree, n_neighbors=5, weights=distance ..............\n",
      "[CV]  algorithm=kd_tree, n_neighbors=5, weights=distance, total=   0.0s\n",
      "[CV] algorithm=kd_tree, n_neighbors=5, weights=distance ..............\n",
      "[CV]  algorithm=kd_tree, n_neighbors=5, weights=distance, total=   0.0s\n",
      "[CV] algorithm=kd_tree, n_neighbors=7, weights=uniform ...............\n",
      "[CV]  algorithm=kd_tree, n_neighbors=7, weights=uniform, total=   0.0s\n",
      "[CV] algorithm=kd_tree, n_neighbors=7, weights=uniform ...............\n",
      "[CV]  algorithm=kd_tree, n_neighbors=7, weights=uniform, total=   0.0s\n",
      "[CV] algorithm=kd_tree, n_neighbors=7, weights=uniform ...............\n",
      "[CV]  algorithm=kd_tree, n_neighbors=7, weights=uniform, total=   0.0s\n",
      "[CV] algorithm=kd_tree, n_neighbors=7, weights=uniform ...............\n",
      "[CV]  algorithm=kd_tree, n_neighbors=7, weights=uniform, total=   0.0s\n",
      "[CV] algorithm=kd_tree, n_neighbors=7, weights=uniform ...............\n",
      "[CV]  algorithm=kd_tree, n_neighbors=7, weights=uniform, total=   0.0s\n",
      "[CV] algorithm=kd_tree, n_neighbors=7, weights=distance ..............\n",
      "[CV]  algorithm=kd_tree, n_neighbors=7, weights=distance, total=   0.0s\n",
      "[CV] algorithm=kd_tree, n_neighbors=7, weights=distance ..............\n",
      "[CV]  algorithm=kd_tree, n_neighbors=7, weights=distance, total=   0.0s\n",
      "[CV] algorithm=kd_tree, n_neighbors=7, weights=distance ..............\n",
      "[CV]  algorithm=kd_tree, n_neighbors=7, weights=distance, total=   0.0s\n",
      "[CV] algorithm=kd_tree, n_neighbors=7, weights=distance ..............\n",
      "[CV]  algorithm=kd_tree, n_neighbors=7, weights=distance, total=   0.0s\n",
      "[CV] algorithm=kd_tree, n_neighbors=7, weights=distance ..............\n",
      "[CV]  algorithm=kd_tree, n_neighbors=7, weights=distance, total=   0.0s\n",
      "[CV] algorithm=kd_tree, n_neighbors=10, weights=uniform ..............\n",
      "[CV]  algorithm=kd_tree, n_neighbors=10, weights=uniform, total=   0.0s\n",
      "[CV] algorithm=kd_tree, n_neighbors=10, weights=uniform ..............\n",
      "[CV]  algorithm=kd_tree, n_neighbors=10, weights=uniform, total=   0.0s\n",
      "[CV] algorithm=kd_tree, n_neighbors=10, weights=uniform ..............\n",
      "[CV]  algorithm=kd_tree, n_neighbors=10, weights=uniform, total=   0.0s\n",
      "[CV] algorithm=kd_tree, n_neighbors=10, weights=uniform ..............\n",
      "[CV]  algorithm=kd_tree, n_neighbors=10, weights=uniform, total=   0.0s\n",
      "[CV] algorithm=kd_tree, n_neighbors=10, weights=uniform ..............\n",
      "[CV]  algorithm=kd_tree, n_neighbors=10, weights=uniform, total=   0.0s\n",
      "[CV] algorithm=kd_tree, n_neighbors=10, weights=distance .............\n",
      "[CV]  algorithm=kd_tree, n_neighbors=10, weights=distance, total=   0.0s\n",
      "[CV] algorithm=kd_tree, n_neighbors=10, weights=distance .............\n",
      "[CV]  algorithm=kd_tree, n_neighbors=10, weights=distance, total=   0.0s\n",
      "[CV] algorithm=kd_tree, n_neighbors=10, weights=distance .............\n",
      "[CV]  algorithm=kd_tree, n_neighbors=10, weights=distance, total=   0.0s\n",
      "[CV] algorithm=kd_tree, n_neighbors=10, weights=distance .............\n",
      "[CV]  algorithm=kd_tree, n_neighbors=10, weights=distance, total=   0.0s\n",
      "[CV] algorithm=kd_tree, n_neighbors=10, weights=distance .............\n",
      "[CV]  algorithm=kd_tree, n_neighbors=10, weights=distance, total=   0.0s\n",
      "[CV] algorithm=kd_tree, n_neighbors=15, weights=uniform ..............\n",
      "[CV]  algorithm=kd_tree, n_neighbors=15, weights=uniform, total=   0.0s\n",
      "[CV] algorithm=kd_tree, n_neighbors=15, weights=uniform ..............\n",
      "[CV]  algorithm=kd_tree, n_neighbors=15, weights=uniform, total=   0.0s\n",
      "[CV] algorithm=kd_tree, n_neighbors=15, weights=uniform ..............\n",
      "[CV]  algorithm=kd_tree, n_neighbors=15, weights=uniform, total=   0.0s\n",
      "[CV] algorithm=kd_tree, n_neighbors=15, weights=uniform ..............\n",
      "[CV]  algorithm=kd_tree, n_neighbors=15, weights=uniform, total=   0.0s\n",
      "[CV] algorithm=kd_tree, n_neighbors=15, weights=uniform ..............\n",
      "[CV]  algorithm=kd_tree, n_neighbors=15, weights=uniform, total=   0.0s\n",
      "[CV] algorithm=kd_tree, n_neighbors=15, weights=distance .............\n",
      "[CV]  algorithm=kd_tree, n_neighbors=15, weights=distance, total=   0.0s\n",
      "[CV] algorithm=kd_tree, n_neighbors=15, weights=distance .............\n",
      "[CV]  algorithm=kd_tree, n_neighbors=15, weights=distance, total=   0.0s\n",
      "[CV] algorithm=kd_tree, n_neighbors=15, weights=distance .............\n",
      "[CV]  algorithm=kd_tree, n_neighbors=15, weights=distance, total=   0.0s\n",
      "[CV] algorithm=kd_tree, n_neighbors=15, weights=distance .............\n",
      "[CV]  algorithm=kd_tree, n_neighbors=15, weights=distance, total=   0.0s\n",
      "[CV] algorithm=kd_tree, n_neighbors=15, weights=distance .............\n",
      "[CV]  algorithm=kd_tree, n_neighbors=15, weights=distance, total=   0.0s\n",
      "[CV] algorithm=brute, n_neighbors=1, weights=uniform .................\n",
      "[CV] .. algorithm=brute, n_neighbors=1, weights=uniform, total=   0.0s\n",
      "[CV] algorithm=brute, n_neighbors=1, weights=uniform .................\n",
      "[CV] .. algorithm=brute, n_neighbors=1, weights=uniform, total=   0.0s\n",
      "[CV] algorithm=brute, n_neighbors=1, weights=uniform .................\n",
      "[CV] .. algorithm=brute, n_neighbors=1, weights=uniform, total=   0.0s\n",
      "[CV] algorithm=brute, n_neighbors=1, weights=uniform .................\n",
      "[CV] .. algorithm=brute, n_neighbors=1, weights=uniform, total=   0.0s\n",
      "[CV] algorithm=brute, n_neighbors=1, weights=uniform .................\n"
     ]
    },
    {
     "name": "stdout",
     "output_type": "stream",
     "text": [
      "[CV] .. algorithm=brute, n_neighbors=1, weights=uniform, total=   0.0s\n",
      "[CV] algorithm=brute, n_neighbors=1, weights=distance ................\n",
      "[CV] . algorithm=brute, n_neighbors=1, weights=distance, total=   0.0s\n",
      "[CV] algorithm=brute, n_neighbors=1, weights=distance ................\n",
      "[CV] . algorithm=brute, n_neighbors=1, weights=distance, total=   0.0s\n",
      "[CV] algorithm=brute, n_neighbors=1, weights=distance ................\n",
      "[CV] . algorithm=brute, n_neighbors=1, weights=distance, total=   0.0s\n",
      "[CV] algorithm=brute, n_neighbors=1, weights=distance ................\n",
      "[CV] . algorithm=brute, n_neighbors=1, weights=distance, total=   0.0s\n",
      "[CV] algorithm=brute, n_neighbors=1, weights=distance ................\n",
      "[CV] . algorithm=brute, n_neighbors=1, weights=distance, total=   0.0s\n",
      "[CV] algorithm=brute, n_neighbors=3, weights=uniform .................\n",
      "[CV] .. algorithm=brute, n_neighbors=3, weights=uniform, total=   0.0s\n",
      "[CV] algorithm=brute, n_neighbors=3, weights=uniform .................\n",
      "[CV] .. algorithm=brute, n_neighbors=3, weights=uniform, total=   0.0s\n",
      "[CV] algorithm=brute, n_neighbors=3, weights=uniform .................\n",
      "[CV] .. algorithm=brute, n_neighbors=3, weights=uniform, total=   0.0s\n",
      "[CV] algorithm=brute, n_neighbors=3, weights=uniform .................\n",
      "[CV] .. algorithm=brute, n_neighbors=3, weights=uniform, total=   0.0s\n",
      "[CV] algorithm=brute, n_neighbors=3, weights=uniform .................\n",
      "[CV] .. algorithm=brute, n_neighbors=3, weights=uniform, total=   0.0s\n",
      "[CV] algorithm=brute, n_neighbors=3, weights=distance ................\n",
      "[CV] . algorithm=brute, n_neighbors=3, weights=distance, total=   0.0s\n",
      "[CV] algorithm=brute, n_neighbors=3, weights=distance ................\n",
      "[CV] . algorithm=brute, n_neighbors=3, weights=distance, total=   0.0s\n",
      "[CV] algorithm=brute, n_neighbors=3, weights=distance ................\n",
      "[CV] . algorithm=brute, n_neighbors=3, weights=distance, total=   0.0s\n",
      "[CV] algorithm=brute, n_neighbors=3, weights=distance ................\n",
      "[CV] . algorithm=brute, n_neighbors=3, weights=distance, total=   0.0s\n",
      "[CV] algorithm=brute, n_neighbors=3, weights=distance ................\n",
      "[CV] . algorithm=brute, n_neighbors=3, weights=distance, total=   0.0s\n",
      "[CV] algorithm=brute, n_neighbors=5, weights=uniform .................\n",
      "[CV] .. algorithm=brute, n_neighbors=5, weights=uniform, total=   0.0s\n",
      "[CV] algorithm=brute, n_neighbors=5, weights=uniform .................\n",
      "[CV] .. algorithm=brute, n_neighbors=5, weights=uniform, total=   0.0s\n",
      "[CV] algorithm=brute, n_neighbors=5, weights=uniform .................\n",
      "[CV] .. algorithm=brute, n_neighbors=5, weights=uniform, total=   0.0s\n",
      "[CV] algorithm=brute, n_neighbors=5, weights=uniform .................\n",
      "[CV] .. algorithm=brute, n_neighbors=5, weights=uniform, total=   0.0s\n",
      "[CV] algorithm=brute, n_neighbors=5, weights=uniform .................\n",
      "[CV] .. algorithm=brute, n_neighbors=5, weights=uniform, total=   0.0s\n",
      "[CV] algorithm=brute, n_neighbors=5, weights=distance ................\n",
      "[CV] . algorithm=brute, n_neighbors=5, weights=distance, total=   0.0s\n",
      "[CV] algorithm=brute, n_neighbors=5, weights=distance ................\n",
      "[CV] . algorithm=brute, n_neighbors=5, weights=distance, total=   0.0s\n",
      "[CV] algorithm=brute, n_neighbors=5, weights=distance ................\n",
      "[CV] . algorithm=brute, n_neighbors=5, weights=distance, total=   0.0s\n",
      "[CV] algorithm=brute, n_neighbors=5, weights=distance ................\n",
      "[CV] . algorithm=brute, n_neighbors=5, weights=distance, total=   0.0s\n",
      "[CV] algorithm=brute, n_neighbors=5, weights=distance ................\n",
      "[CV] . algorithm=brute, n_neighbors=5, weights=distance, total=   0.0s\n",
      "[CV] algorithm=brute, n_neighbors=7, weights=uniform .................\n",
      "[CV] .. algorithm=brute, n_neighbors=7, weights=uniform, total=   0.0s\n",
      "[CV] algorithm=brute, n_neighbors=7, weights=uniform .................\n",
      "[CV] .. algorithm=brute, n_neighbors=7, weights=uniform, total=   0.0s\n",
      "[CV] algorithm=brute, n_neighbors=7, weights=uniform .................\n",
      "[CV] .. algorithm=brute, n_neighbors=7, weights=uniform, total=   0.0s\n",
      "[CV] algorithm=brute, n_neighbors=7, weights=uniform .................\n",
      "[CV] .. algorithm=brute, n_neighbors=7, weights=uniform, total=   0.0s\n",
      "[CV] algorithm=brute, n_neighbors=7, weights=uniform .................\n",
      "[CV] .. algorithm=brute, n_neighbors=7, weights=uniform, total=   0.0s\n",
      "[CV] algorithm=brute, n_neighbors=7, weights=distance ................\n",
      "[CV] . algorithm=brute, n_neighbors=7, weights=distance, total=   0.0s\n",
      "[CV] algorithm=brute, n_neighbors=7, weights=distance ................\n",
      "[CV] . algorithm=brute, n_neighbors=7, weights=distance, total=   0.0s\n",
      "[CV] algorithm=brute, n_neighbors=7, weights=distance ................\n",
      "[CV] . algorithm=brute, n_neighbors=7, weights=distance, total=   0.0s\n",
      "[CV] algorithm=brute, n_neighbors=7, weights=distance ................\n",
      "[CV] . algorithm=brute, n_neighbors=7, weights=distance, total=   0.0s\n",
      "[CV] algorithm=brute, n_neighbors=7, weights=distance ................\n",
      "[CV] . algorithm=brute, n_neighbors=7, weights=distance, total=   0.0s\n",
      "[CV] algorithm=brute, n_neighbors=10, weights=uniform ................\n",
      "[CV] . algorithm=brute, n_neighbors=10, weights=uniform, total=   0.0s\n",
      "[CV] algorithm=brute, n_neighbors=10, weights=uniform ................\n",
      "[CV] . algorithm=brute, n_neighbors=10, weights=uniform, total=   0.0s\n",
      "[CV] algorithm=brute, n_neighbors=10, weights=uniform ................\n",
      "[CV] . algorithm=brute, n_neighbors=10, weights=uniform, total=   0.0s\n",
      "[CV] algorithm=brute, n_neighbors=10, weights=uniform ................\n",
      "[CV] . algorithm=brute, n_neighbors=10, weights=uniform, total=   0.0s\n",
      "[CV] algorithm=brute, n_neighbors=10, weights=uniform ................\n",
      "[CV] . algorithm=brute, n_neighbors=10, weights=uniform, total=   0.0s\n",
      "[CV] algorithm=brute, n_neighbors=10, weights=distance ...............\n",
      "[CV]  algorithm=brute, n_neighbors=10, weights=distance, total=   0.0s\n",
      "[CV] algorithm=brute, n_neighbors=10, weights=distance ...............\n",
      "[CV]  algorithm=brute, n_neighbors=10, weights=distance, total=   0.0s\n",
      "[CV] algorithm=brute, n_neighbors=10, weights=distance ...............\n",
      "[CV]  algorithm=brute, n_neighbors=10, weights=distance, total=   0.0s\n",
      "[CV] algorithm=brute, n_neighbors=10, weights=distance ...............\n",
      "[CV]  algorithm=brute, n_neighbors=10, weights=distance, total=   0.0s\n",
      "[CV] algorithm=brute, n_neighbors=10, weights=distance ...............\n",
      "[CV]  algorithm=brute, n_neighbors=10, weights=distance, total=   0.0s\n",
      "[CV] algorithm=brute, n_neighbors=15, weights=uniform ................\n",
      "[CV] . algorithm=brute, n_neighbors=15, weights=uniform, total=   0.0s\n",
      "[CV] algorithm=brute, n_neighbors=15, weights=uniform ................\n",
      "[CV] . algorithm=brute, n_neighbors=15, weights=uniform, total=   0.0s\n",
      "[CV] algorithm=brute, n_neighbors=15, weights=uniform ................\n",
      "[CV] . algorithm=brute, n_neighbors=15, weights=uniform, total=   0.0s\n",
      "[CV] algorithm=brute, n_neighbors=15, weights=uniform ................\n",
      "[CV] . algorithm=brute, n_neighbors=15, weights=uniform, total=   0.0s\n",
      "[CV] algorithm=brute, n_neighbors=15, weights=uniform ................\n",
      "[CV] . algorithm=brute, n_neighbors=15, weights=uniform, total=   0.0s\n",
      "[CV] algorithm=brute, n_neighbors=15, weights=distance ...............\n",
      "[CV]  algorithm=brute, n_neighbors=15, weights=distance, total=   0.0s\n",
      "[CV] algorithm=brute, n_neighbors=15, weights=distance ...............\n",
      "[CV]  algorithm=brute, n_neighbors=15, weights=distance, total=   0.0s\n",
      "[CV] algorithm=brute, n_neighbors=15, weights=distance ...............\n",
      "[CV]  algorithm=brute, n_neighbors=15, weights=distance, total=   0.0s\n",
      "[CV] algorithm=brute, n_neighbors=15, weights=distance ...............\n",
      "[CV]  algorithm=brute, n_neighbors=15, weights=distance, total=   0.0s\n",
      "[CV] algorithm=brute, n_neighbors=15, weights=distance ...............\n",
      "[CV]  algorithm=brute, n_neighbors=15, weights=distance, total=   0.0s\n"
     ]
    },
    {
     "name": "stderr",
     "output_type": "stream",
     "text": [
      "[Parallel(n_jobs=1)]: Done 240 out of 240 | elapsed:    9.4s finished\n"
     ]
    },
    {
     "data": {
      "text/plain": [
       "GridSearchCV(cv=5, estimator=KNeighborsClassifier(),\n",
       "             param_grid=[{'algorithm': ['auto', 'ball_tree', 'kd_tree',\n",
       "                                        'brute'],\n",
       "                          'n_neighbors': [1, 3, 5, 7, 10, 15],\n",
       "                          'weights': ['uniform', 'distance']}],\n",
       "             return_train_score=True, scoring='accuracy', verbose=2)"
      ]
     },
     "execution_count": 37,
     "metadata": {},
     "output_type": "execute_result"
    }
   ],
   "source": [
    "from sklearn.neighbors import KNeighborsClassifier\n",
    "\n",
    "kneighbours = KNeighborsClassifier()\n",
    "\n",
    "param_grid = [{'n_neighbors':[1,3,5,7,10,15],\n",
    "              'weights':['uniform','distance'],\n",
    "              'algorithm':['auto','ball_tree','kd_tree','brute']}]\n",
    "grid_search_kneighbours = GridSearchCV(kneighbours,param_grid,cv = 5, scoring = 'accuracy', return_train_score = True,verbose = 2)\n",
    "\n",
    "grid_search_kneighbours.fit(X_train_prepared,y_train_prepared)\n"
   ]
  },
  {
   "cell_type": "code",
   "execution_count": 38,
   "metadata": {},
   "outputs": [
    {
     "data": {
      "text/html": [
       "<div>\n",
       "<style scoped>\n",
       "    .dataframe tbody tr th:only-of-type {\n",
       "        vertical-align: middle;\n",
       "    }\n",
       "\n",
       "    .dataframe tbody tr th {\n",
       "        vertical-align: top;\n",
       "    }\n",
       "\n",
       "    .dataframe thead th {\n",
       "        text-align: right;\n",
       "    }\n",
       "</style>\n",
       "<table border=\"1\" class=\"dataframe\">\n",
       "  <thead>\n",
       "    <tr style=\"text-align: right;\">\n",
       "      <th></th>\n",
       "      <th>algorithm</th>\n",
       "      <th>n_neighbors</th>\n",
       "      <th>weights</th>\n",
       "      <th>Accuracy</th>\n",
       "    </tr>\n",
       "  </thead>\n",
       "  <tbody>\n",
       "    <tr>\n",
       "      <th>42</th>\n",
       "      <td>brute</td>\n",
       "      <td>7</td>\n",
       "      <td>uniform</td>\n",
       "      <td>0.820225</td>\n",
       "    </tr>\n",
       "    <tr>\n",
       "      <th>20</th>\n",
       "      <td>ball_tree</td>\n",
       "      <td>10</td>\n",
       "      <td>uniform</td>\n",
       "      <td>0.820225</td>\n",
       "    </tr>\n",
       "    <tr>\n",
       "      <th>44</th>\n",
       "      <td>brute</td>\n",
       "      <td>10</td>\n",
       "      <td>uniform</td>\n",
       "      <td>0.820225</td>\n",
       "    </tr>\n",
       "    <tr>\n",
       "      <th>8</th>\n",
       "      <td>auto</td>\n",
       "      <td>10</td>\n",
       "      <td>uniform</td>\n",
       "      <td>0.820225</td>\n",
       "    </tr>\n",
       "    <tr>\n",
       "      <th>32</th>\n",
       "      <td>kd_tree</td>\n",
       "      <td>10</td>\n",
       "      <td>uniform</td>\n",
       "      <td>0.820225</td>\n",
       "    </tr>\n",
       "    <tr>\n",
       "      <th>6</th>\n",
       "      <td>auto</td>\n",
       "      <td>7</td>\n",
       "      <td>uniform</td>\n",
       "      <td>0.819101</td>\n",
       "    </tr>\n",
       "    <tr>\n",
       "      <th>18</th>\n",
       "      <td>ball_tree</td>\n",
       "      <td>7</td>\n",
       "      <td>uniform</td>\n",
       "      <td>0.819101</td>\n",
       "    </tr>\n",
       "    <tr>\n",
       "      <th>30</th>\n",
       "      <td>kd_tree</td>\n",
       "      <td>7</td>\n",
       "      <td>uniform</td>\n",
       "      <td>0.819101</td>\n",
       "    </tr>\n",
       "    <tr>\n",
       "      <th>21</th>\n",
       "      <td>ball_tree</td>\n",
       "      <td>10</td>\n",
       "      <td>distance</td>\n",
       "      <td>0.815730</td>\n",
       "    </tr>\n",
       "    <tr>\n",
       "      <th>9</th>\n",
       "      <td>auto</td>\n",
       "      <td>10</td>\n",
       "      <td>distance</td>\n",
       "      <td>0.815730</td>\n",
       "    </tr>\n",
       "  </tbody>\n",
       "</table>\n",
       "</div>"
      ],
      "text/plain": [
       "    algorithm  n_neighbors   weights  Accuracy\n",
       "42      brute            7   uniform  0.820225\n",
       "20  ball_tree           10   uniform  0.820225\n",
       "44      brute           10   uniform  0.820225\n",
       "8        auto           10   uniform  0.820225\n",
       "32    kd_tree           10   uniform  0.820225\n",
       "6        auto            7   uniform  0.819101\n",
       "18  ball_tree            7   uniform  0.819101\n",
       "30    kd_tree            7   uniform  0.819101\n",
       "21  ball_tree           10  distance  0.815730\n",
       "9        auto           10  distance  0.815730"
      ]
     },
     "execution_count": 38,
     "metadata": {},
     "output_type": "execute_result"
    }
   ],
   "source": [
    "grid_search_df(grid_search_kneighbours.cv_results_).head(10)"
   ]
  },
  {
   "cell_type": "code",
   "execution_count": 39,
   "metadata": {},
   "outputs": [],
   "source": [
    "kneighbours = KNeighborsClassifier(**grid_search_kneighbours.best_params_)\n",
    "\n",
    "kneighbours.fit(X_train_prepared,y_train_prepared)\n",
    "\n",
    "kneighbours_score = cross_val_score(kneighbours,X_train_prepared,y_train_prepared, cv = 10)"
   ]
  },
  {
   "cell_type": "code",
   "execution_count": 40,
   "metadata": {},
   "outputs": [
    {
     "data": {
      "text/plain": [
       "0.8258426966292134"
      ]
     },
     "execution_count": 40,
     "metadata": {},
     "output_type": "execute_result"
    }
   ],
   "source": [
    "kneighbours_score.mean()"
   ]
  },
  {
   "cell_type": "markdown",
   "metadata": {},
   "source": [
    "# Comparison"
   ]
  },
  {
   "cell_type": "code",
   "execution_count": 41,
   "metadata": {},
   "outputs": [
    {
     "name": "stdout",
     "output_type": "stream",
     "text": [
      "SVC: 0.8370786516853933\n",
      "random_forest: 0.8247191011235955\n",
      "logistic_regression: 0.8303370786516855\n",
      "k-neighbours: 0.8258426966292134\n"
     ]
    }
   ],
   "source": [
    "print(\"SVC:\", svc_scores.mean())\n",
    "print(\"random_forest:\", random_forest_scores.mean())\n",
    "print(\"logistic_regression:\", logistic_regression_scores.mean())\n",
    "print(\"k-neighbours:\", kneighbours_score.mean())"
   ]
  },
  {
   "cell_type": "markdown",
   "metadata": {},
   "source": [
    "# Finish Them up!"
   ]
  },
  {
   "cell_type": "code",
   "execution_count": 42,
   "metadata": {},
   "outputs": [
    {
     "data": {
      "text/plain": [
       "Pipeline(steps=[('processing_pipeline',\n",
       "                 ColumnTransformer(transformers=[('numeric',\n",
       "                                                  Pipeline(steps=[('numeric_imputer',\n",
       "                                                                   SimpleImputer(strategy='median')),\n",
       "                                                                  ('numeric_scaler',\n",
       "                                                                   StandardScaler())]),\n",
       "                                                  ['Age', 'SibSp', 'Parch',\n",
       "                                                   'Fare']),\n",
       "                                                 ('categorical',\n",
       "                                                  Pipeline(steps=[('ticket_prefix_adder',\n",
       "                                                                   AttributeAdder()),\n",
       "                                                                  ('categorical_imputer',\n",
       "                                                                   SimpleImputer(strategy='most_frequent')),\n",
       "                                                                  ('encoder',\n",
       "                                                                   OneHotEncoder(sparse=False))]),\n",
       "                                                  ['Pclass', 'Sex', 'Embarked',\n",
       "                                                   'Ticket', 'Name',\n",
       "                                                   'Cabin'])])),\n",
       "                ('svc_estimator', KNeighborsClassifier(n_neighbors=10))])"
      ]
     },
     "execution_count": 42,
     "metadata": {},
     "output_type": "execute_result"
    }
   ],
   "source": [
    "svc_finished_pipeline = Pipeline([('processing_pipeline',full_pipeline),\n",
    "                             ('svc_estimator',svc_grid_search.best_estimator_)])\n",
    "svc_finished_pipeline.fit(X_train_outlier_removed,y_train_prepared)\n",
    "\n",
    "random_forest_finished_pipeline = Pipeline([('processing_pipeline',full_pipeline),\n",
    "                             ('svc_estimator',grid_search_forest.best_estimator_)])\n",
    "random_forest_finished_pipeline.fit(X_train_outlier_removed,y_train_prepared)\n",
    "\n",
    "logistic_regression_finished_pipeline = Pipeline([('processing_pipeline',full_pipeline),\n",
    "                             ('svc_estimator',grid_search_logistic.best_estimator_)])\n",
    "logistic_regression_finished_pipeline.fit(X_train_outlier_removed,y_train_prepared)\n",
    "\n",
    "kneighbours_finished_pipeline = Pipeline([('processing_pipeline',full_pipeline),\n",
    "                             ('svc_estimator',grid_search_kneighbours.best_estimator_)])\n",
    "kneighbours_finished_pipeline.fit(X_train_outlier_removed,y_train_prepared)"
   ]
  },
  {
   "cell_type": "markdown",
   "metadata": {},
   "source": [
    "# Test on final data "
   ]
  },
  {
   "cell_type": "code",
   "execution_count": 43,
   "metadata": {},
   "outputs": [],
   "source": [
    "svc_predictions = svc_finished_pipeline.predict(X_test)\n",
    "forest_predictions = random_forest_finished_pipeline.predict(X_test)\n",
    "logistic_predictions = logistic_regression_finished_pipeline.predict(X_test)\n",
    "kneighbours_predictions = kneighbours_finished_pipeline.predict(X_test)"
   ]
  },
  {
   "cell_type": "code",
   "execution_count": 44,
   "metadata": {},
   "outputs": [],
   "source": [
    "svc_test_results_df = pd.DataFrame({'PassengerId':X_test['PassengerId'],'Survived':svc_predictions})\n",
    "svc_test_results_df.to_csv('titanic_submission_svc.csv', index = False)"
   ]
  },
  {
   "cell_type": "code",
   "execution_count": 45,
   "metadata": {},
   "outputs": [],
   "source": [
    "forest_test_results_df = pd.DataFrame({'PassengerId':X_test['PassengerId'],'Survived':forest_predictions})\n",
    "forest_test_results_df.to_csv('titanic_submission_forest.csv', index = False)"
   ]
  },
  {
   "cell_type": "code",
   "execution_count": 46,
   "metadata": {},
   "outputs": [],
   "source": [
    "logistic_test_results = pd.DataFrame({'PassengerId':X_test['PassengerId'],'Survived':logistic_predictions})\n",
    "logistic_test_results.to_csv('titanic_submission_logistic.csv', index = False)"
   ]
  },
  {
   "cell_type": "code",
   "execution_count": 47,
   "metadata": {},
   "outputs": [],
   "source": [
    "kneighbours_test_results = pd.DataFrame({'PassengerId':X_test['PassengerId'],'Survived':kneighbours_predictions})\n",
    "kneighbours_test_results.to_csv('titanic_submission_kneighbours.csv', index = False)"
   ]
  },
  {
   "cell_type": "code",
   "execution_count": 48,
   "metadata": {},
   "outputs": [
    {
     "data": {
      "text/plain": [
       "<AxesSubplot:>"
      ]
     },
     "execution_count": 48,
     "metadata": {},
     "output_type": "execute_result"
    },
    {
     "data": {
      "image/png": "[encoded data removed]",
      "text/plain": [
       "<Figure size 432x288 with 1 Axes>"
      ]
     },
     "metadata": {
      "needs_background": "light"
     },
     "output_type": "display_data"
    }
   ],
   "source": [
    "combined_df = pd.DataFrame({'PassengerId':X_test['PassengerId'],'Survived_SVC':svc_predictions,\n",
    "                           'Survived_random_forest':forest_predictions,'Survived_logistic':logistic_predictions,\n",
    "                            'Survived_kneighbours':kneighbours_predictions})\n",
    "combined_df.set_index('PassengerId', inplace = True)\n",
    "combined_df.sum(axis = 1).hist()"
   ]
  },
  {
   "cell_type": "code",
   "execution_count": null,
   "metadata": {},
   "outputs": [],
   "source": []
  }
 ],
 "metadata": {
  "kernelspec": {
   "display_name": "Python 3",
   "language": "python",
   "name": "python3"
  },
  "language_info": {
   "codemirror_mode": {
    "name": "ipython",
    "version": 3
   },
   "file_extension": ".py",
   "mimetype": "text/x-python",
   "name": "python",
   "nbconvert_exporter": "python",
   "pygments_lexer": "ipython3",
   "version": "3.8.5"
  }
 },
 "nbformat": 4,
 "nbformat_minor": 4
}
